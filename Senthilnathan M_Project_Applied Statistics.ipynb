{
 "cells": [
  {
   "cell_type": "markdown",
   "metadata": {
    "application/vnd.databricks.v1+cell": {
     "cellMetadata": {},
     "inputWidgets": {},
     "nuid": "699d3b0b-6646-431b-b8f3-b91d03859d64",
     "showTitle": false,
     "title": ""
    }
   },
   "source": [
    "# Part One"
   ]
  },
  {
   "cell_type": "markdown",
   "metadata": {
    "application/vnd.databricks.v1+cell": {
     "cellMetadata": {},
     "inputWidgets": {},
     "nuid": "09e5066e-f422-4ab2-835b-25f367920c5a",
     "showTitle": false,
     "title": ""
    }
   },
   "source": [
    "### 1. Question: Please refer the table below to answer below questions:"
   ]
  },
  {
   "cell_type": "markdown",
   "metadata": {
    "application/vnd.databricks.v1+cell": {
     "cellMetadata": {},
     "inputWidgets": {},
     "nuid": "53376e2a-ac60-43d3-b5fc-82c9f93d9135",
     "showTitle": false,
     "title": ""
    }
   },
   "source": [
    "|Planned to purchase Product A | Actually placed and order for Product A - Yes | Actually placed and order for Product A - No|Total|\n",
    "| :----- | :---- | :---- | :---- |\n",
    "| Yes | 400 | 100 | 500 |\n",
    "| No  | 200 | 1300| 1500|\n",
    "| Total | 600 | 1400| 2000|"
   ]
  },
  {
   "cell_type": "markdown",
   "metadata": {
    "application/vnd.databricks.v1+cell": {
     "cellMetadata": {},
     "inputWidgets": {},
     "nuid": "a830a773-5699-4ed3-9f5a-b6b0fd020464",
     "showTitle": false,
     "title": ""
    }
   },
   "source": [
    "#### 1. Refer to the above table and find the joint probability of the people who planned to purchase and actually placed an order"
   ]
  },
  {
   "cell_type": "markdown",
   "metadata": {
    "application/vnd.databricks.v1+cell": {
     "cellMetadata": {},
     "inputWidgets": {},
     "nuid": "cefcb7e5-055a-4508-8940-f3db5c95a626",
     "showTitle": false,
     "title": ""
    }
   },
   "source": [
    "<b> Solution: </b> P(planned to purchase Product A And Actually placed an order for Product A) = 400/2000 = 0.2"
   ]
  },
  {
   "cell_type": "markdown",
   "metadata": {
    "application/vnd.databricks.v1+cell": {
     "cellMetadata": {},
     "inputWidgets": {},
     "nuid": "fce3a8fb-75cb-42d7-b601-563fc5a12045",
     "showTitle": false,
     "title": ""
    }
   },
   "source": [
    "#### 2. Refer to the above table and find the joint probability of the people who planned to purchase and actually placed an order, given that people planned to purchase."
   ]
  },
  {
   "cell_type": "markdown",
   "metadata": {
    "application/vnd.databricks.v1+cell": {
     "cellMetadata": {},
     "inputWidgets": {},
     "nuid": "52f49afd-0975-416a-ab15-28393e3849c0",
     "showTitle": false,
     "title": ""
    }
   },
   "source": [
    "<b> Solution </b> : P(planned to purchase Product A And Actually placed an order for Product A / Planned to purchase product A) = P(planned to purchase Product A And Actually placed an order for Product A)/P(planned to purchase Product A) = 0.2/0.25 = 0.8"
   ]
  },
  {
   "cell_type": "markdown",
   "metadata": {
    "application/vnd.databricks.v1+cell": {
     "cellMetadata": {},
     "inputWidgets": {},
     "nuid": "77425904-eb7e-4be3-a52f-29f9947a7c7b",
     "showTitle": false,
     "title": ""
    }
   },
   "source": [
    "### 2. Question: An electrical manufacturing company conducts quality checks at specified periods on the products it manufactures. Historically, the failure rate for the manufactured item is 5%. Suppose a random sample of 10 manufactured items is selected. Answer the following questions."
   ]
  },
  {
   "cell_type": "markdown",
   "metadata": {
    "application/vnd.databricks.v1+cell": {
     "cellMetadata": {},
     "inputWidgets": {},
     "nuid": "d9789cd8-b709-4459-ab17-0d1df9664ef7",
     "showTitle": false,
     "title": ""
    }
   },
   "source": [
    "#### A. Probability that none of the items are defective?"
   ]
  },
  {
   "cell_type": "markdown",
   "metadata": {
    "application/vnd.databricks.v1+cell": {
     "cellMetadata": {},
     "inputWidgets": {},
     "nuid": "132f1afc-bcd3-4137-9efe-6fa93eb46a5d",
     "showTitle": false,
     "title": ""
    }
   },
   "source": [
    "<b> Solution: </b> Let X be the number of defective items. To find P(X=0), we apply binomial distribution"
   ]
  },
  {
   "cell_type": "code",
   "execution_count": 0,
   "metadata": {
    "application/vnd.databricks.v1+cell": {
     "cellMetadata": {},
     "inputWidgets": {},
     "nuid": "b0c890c4-b98d-47d5-9902-5d08d743f26c",
     "showTitle": false,
     "title": ""
    }
   },
   "outputs": [],
   "source": [
    "import numpy as np\n",
    "import scipy.stats as stats\n",
    "\n",
    "n=10\n",
    "k=np.arange(n+1)\n",
    "p=0.05 #failure rate\n",
    "bin = stats.binom.pmf(k,n,p)\n",
    "bin[0] #P(X=0)"
   ]
  },
  {
   "cell_type": "markdown",
   "metadata": {
    "application/vnd.databricks.v1+cell": {
     "cellMetadata": {},
     "inputWidgets": {},
     "nuid": "37fa0962-b5d5-45d6-a077-a33bd837583f",
     "showTitle": false,
     "title": ""
    }
   },
   "source": [
    "Probability that none of the items are defective = 0.599"
   ]
  },
  {
   "cell_type": "markdown",
   "metadata": {
    "application/vnd.databricks.v1+cell": {
     "cellMetadata": {},
     "inputWidgets": {},
     "nuid": "476b8e6f-f8d2-44d2-a992-50574fd0afa6",
     "showTitle": false,
     "title": ""
    }
   },
   "source": [
    "#### B. Probability that exactly one of the items is defective?"
   ]
  },
  {
   "cell_type": "markdown",
   "metadata": {
    "application/vnd.databricks.v1+cell": {
     "cellMetadata": {},
     "inputWidgets": {},
     "nuid": "d23e139a-8406-4a10-9ce1-980588d4e4a1",
     "showTitle": false,
     "title": ""
    }
   },
   "source": [
    "<b> Solution: </b> To find P(X=1), "
   ]
  },
  {
   "cell_type": "code",
   "execution_count": 0,
   "metadata": {
    "application/vnd.databricks.v1+cell": {
     "cellMetadata": {},
     "inputWidgets": {},
     "nuid": "ef8cf205-2095-448c-b867-ff1103b59c06",
     "showTitle": false,
     "title": ""
    }
   },
   "outputs": [],
   "source": [
    "bin[1]"
   ]
  },
  {
   "cell_type": "markdown",
   "metadata": {
    "application/vnd.databricks.v1+cell": {
     "cellMetadata": {},
     "inputWidgets": {},
     "nuid": "433a9ca4-9b15-4a0c-8a14-c8a6098f5bbf",
     "showTitle": false,
     "title": ""
    }
   },
   "source": [
    "Probability that exactly one of the items is defective = 0.315"
   ]
  },
  {
   "cell_type": "markdown",
   "metadata": {
    "application/vnd.databricks.v1+cell": {
     "cellMetadata": {},
     "inputWidgets": {},
     "nuid": "d98ac11c-d366-447e-97a5-0a4e71b77589",
     "showTitle": false,
     "title": ""
    }
   },
   "source": [
    "#### C. Probability that two or fewer of the items are defective?"
   ]
  },
  {
   "cell_type": "markdown",
   "metadata": {
    "application/vnd.databricks.v1+cell": {
     "cellMetadata": {},
     "inputWidgets": {},
     "nuid": "f417a64b-e06b-4ed3-9976-492750e847b3",
     "showTitle": false,
     "title": ""
    }
   },
   "source": [
    "<b>Solution</b>: To find P(X<=2),"
   ]
  },
  {
   "cell_type": "code",
   "execution_count": 0,
   "metadata": {
    "application/vnd.databricks.v1+cell": {
     "cellMetadata": {},
     "inputWidgets": {},
     "nuid": "c72a481c-3d20-4b6f-8d82-ad2b1e2cd7e6",
     "showTitle": false,
     "title": ""
    }
   },
   "outputs": [],
   "source": [
    "sum(bin[0:3])"
   ]
  },
  {
   "cell_type": "markdown",
   "metadata": {
    "application/vnd.databricks.v1+cell": {
     "cellMetadata": {},
     "inputWidgets": {},
     "nuid": "328d7e32-e452-4737-a270-ae61890eb917",
     "showTitle": false,
     "title": ""
    }
   },
   "source": [
    "Probability that two or fewer of the items are defective = 0.988"
   ]
  },
  {
   "cell_type": "markdown",
   "metadata": {
    "application/vnd.databricks.v1+cell": {
     "cellMetadata": {},
     "inputWidgets": {},
     "nuid": "492a1d5e-9e5e-4758-87e8-f16a271309d9",
     "showTitle": false,
     "title": ""
    }
   },
   "source": [
    "#### D. Probability that three or more of the items are defective ?"
   ]
  },
  {
   "cell_type": "markdown",
   "metadata": {
    "application/vnd.databricks.v1+cell": {
     "cellMetadata": {},
     "inputWidgets": {},
     "nuid": "359b8301-61a4-493c-9636-ff6ec005894f",
     "showTitle": false,
     "title": ""
    }
   },
   "source": [
    "<b> Solution </b>: To find P(X>=3),"
   ]
  },
  {
   "cell_type": "code",
   "execution_count": 0,
   "metadata": {
    "application/vnd.databricks.v1+cell": {
     "cellMetadata": {},
     "inputWidgets": {},
     "nuid": "56221b39-db5d-4730-98f6-86f3a7f204ad",
     "showTitle": false,
     "title": ""
    }
   },
   "outputs": [],
   "source": [
    "sum(bin)-sum(bin[0:3])"
   ]
  },
  {
   "cell_type": "markdown",
   "metadata": {
    "application/vnd.databricks.v1+cell": {
     "cellMetadata": {},
     "inputWidgets": {},
     "nuid": "1b4a9fd9-6dbe-4566-ad37-57073e6684ee",
     "showTitle": false,
     "title": ""
    }
   },
   "source": [
    "Probability that three or more of the items are defective = 0.012"
   ]
  },
  {
   "cell_type": "markdown",
   "metadata": {
    "application/vnd.databricks.v1+cell": {
     "cellMetadata": {},
     "inputWidgets": {},
     "nuid": "855408b4-e687-4971-b5a1-037c6b29450a",
     "showTitle": false,
     "title": ""
    }
   },
   "source": [
    "### 3. Question: A car salesman sells on an average 3 cars per week."
   ]
  },
  {
   "cell_type": "markdown",
   "metadata": {
    "application/vnd.databricks.v1+cell": {
     "cellMetadata": {},
     "inputWidgets": {},
     "nuid": "e463d5e4-99d9-4f5b-98ea-8032ee3c155d",
     "showTitle": false,
     "title": ""
    }
   },
   "source": [
    "#### A. Probability that in a given week he will sell some cars."
   ]
  },
  {
   "cell_type": "markdown",
   "metadata": {
    "application/vnd.databricks.v1+cell": {
     "cellMetadata": {},
     "inputWidgets": {},
     "nuid": "b9519166-9d3b-4ffb-b74e-971cbb838b4e",
     "showTitle": false,
     "title": ""
    }
   },
   "source": [
    "<b> Solution </b>: Let X be the number of cars the salesman sells in a week. To find P(X>0),"
   ]
  },
  {
   "cell_type": "code",
   "execution_count": 0,
   "metadata": {
    "application/vnd.databricks.v1+cell": {
     "cellMetadata": {},
     "inputWidgets": {},
     "nuid": "63d5f817-ce11-43a9-9c71-76b072e949d9",
     "showTitle": false,
     "title": ""
    }
   },
   "outputs": [],
   "source": [
    "n = np.arange(11) \n",
    "avg = 3 #average cars sold per week\n",
    "poi_prob = stats.poisson.pmf(n,avg)\n",
    "sum(poi_prob)-poi_prob[0] # 1 - P(X=0) \n",
    "print(poi_prob)"
   ]
  },
  {
   "cell_type": "markdown",
   "metadata": {
    "application/vnd.databricks.v1+cell": {
     "cellMetadata": {},
     "inputWidgets": {},
     "nuid": "6cdcce43-de60-46de-8153-5058d3055687",
     "showTitle": false,
     "title": ""
    }
   },
   "source": [
    "Probability that in a given week he will sell some cars (X>0) = 0.95"
   ]
  },
  {
   "cell_type": "markdown",
   "metadata": {
    "application/vnd.databricks.v1+cell": {
     "cellMetadata": {},
     "inputWidgets": {},
     "nuid": "6350a988-4e12-40f7-8250-dfa27c8c65e5",
     "showTitle": false,
     "title": ""
    }
   },
   "source": [
    "#### B. Probability that in a given week he will sell 2 or more but less than 5 cars."
   ]
  },
  {
   "cell_type": "markdown",
   "metadata": {
    "application/vnd.databricks.v1+cell": {
     "cellMetadata": {},
     "inputWidgets": {},
     "nuid": "05e10469-bbee-41c4-94d7-4139da6867c2",
     "showTitle": false,
     "title": ""
    }
   },
   "source": [
    "<b> Solution: </b> P(2>=X<5)=P(X=2)+P(X=3)+P(X=4)"
   ]
  },
  {
   "cell_type": "code",
   "execution_count": 0,
   "metadata": {
    "application/vnd.databricks.v1+cell": {
     "cellMetadata": {},
     "inputWidgets": {},
     "nuid": "c3499d3f-b600-412b-a9ac-890d2d9f3b74",
     "showTitle": false,
     "title": ""
    }
   },
   "outputs": [],
   "source": [
    "sum(poi_prob[2:5])"
   ]
  },
  {
   "cell_type": "markdown",
   "metadata": {
    "application/vnd.databricks.v1+cell": {
     "cellMetadata": {},
     "inputWidgets": {},
     "nuid": "d8ec977e-7566-4af3-9995-821bed56a182",
     "showTitle": false,
     "title": ""
    }
   },
   "source": [
    "Probability that in a given week he will sell 2 or more but less than 5 cars = 0.616"
   ]
  },
  {
   "cell_type": "markdown",
   "metadata": {
    "application/vnd.databricks.v1+cell": {
     "cellMetadata": {},
     "inputWidgets": {},
     "nuid": "865d08f7-7ab1-4466-805b-70de30180e18",
     "showTitle": false,
     "title": ""
    }
   },
   "source": [
    "#### C. Plot the poisson distribution function for cumulative probability of cars sold per-week vs number of cars sold per week."
   ]
  },
  {
   "cell_type": "code",
   "execution_count": 0,
   "metadata": {
    "application/vnd.databricks.v1+cell": {
     "cellMetadata": {},
     "inputWidgets": {},
     "nuid": "e1c968c8-1f6e-4c09-a219-f0a81091844f",
     "showTitle": false,
     "title": ""
    }
   },
   "outputs": [],
   "source": [
    "import matplotlib.pyplot as plt\n",
    "import seaborn as sns\n",
    "%matplotlib inline\n",
    "\n",
    "poisson_cdf = stats.poisson.cdf(n,avg) # call cdf function to get cumulative values for n=10 and mean = 3\n",
    "# its a discrete distribution. So we can use bar plot\n",
    "bar_graph = sns.barplot(n,y=poisson_cdf)\n",
    "bar_graph.set_xlabel('Number of cars sold per week(X)', fontsize = 14)\n",
    "bar_graph.set_ylabel('Cumulative probability(X)', fontsize = 14)\n",
    "bar_graph.set_title('Cumulative probability of cars sold per week', fontsize=16)"
   ]
  },
  {
   "cell_type": "markdown",
   "metadata": {
    "application/vnd.databricks.v1+cell": {
     "cellMetadata": {},
     "inputWidgets": {},
     "nuid": "ae9473f2-42df-4c8b-af5e-02f9ad6cc1df",
     "showTitle": false,
     "title": ""
    }
   },
   "source": [
    "### 4. Question: Accuracy in understanding orders for a speech based bot at a restaurant is important for the Company X which has designed, marketed and launched the product for a contactless delivery due to the COVID-19 pandemic. Recognition accuracy that measures the percentage of orders that are taken correctly is 86.8%. Suppose that you place order with the bot and two friends of yours independently place orders with the same bot. Answer the following questions."
   ]
  },
  {
   "cell_type": "markdown",
   "metadata": {
    "application/vnd.databricks.v1+cell": {
     "cellMetadata": {},
     "inputWidgets": {},
     "nuid": "d3f624f9-8059-4fb6-8525-cecfd0ff3920",
     "showTitle": false,
     "title": ""
    }
   },
   "source": [
    "#### A. What is the probability that all three orders will be recognised correctly?"
   ]
  },
  {
   "cell_type": "markdown",
   "metadata": {
    "application/vnd.databricks.v1+cell": {
     "cellMetadata": {},
     "inputWidgets": {},
     "nuid": "548b26eb-eb15-4d61-800e-8638b596d372",
     "showTitle": false,
     "title": ""
    }
   },
   "source": [
    "<b> Solution: </b> All three orders are independent events. Probability of each order taken correctly by the bot = 86.8%"
   ]
  },
  {
   "cell_type": "markdown",
   "metadata": {
    "application/vnd.databricks.v1+cell": {
     "cellMetadata": {},
     "inputWidgets": {},
     "nuid": "1e28d8ba-6380-4ed3-85fd-a363e47ce11e",
     "showTitle": false,
     "title": ""
    }
   },
   "source": [
    "Probability that all 3 orders are taken correctly = 86.8% * 86.8% * 86.8% = 0.654"
   ]
  },
  {
   "cell_type": "markdown",
   "metadata": {
    "application/vnd.databricks.v1+cell": {
     "cellMetadata": {},
     "inputWidgets": {},
     "nuid": "6ed7f433-a4dc-4242-bfa9-63ba1819848d",
     "showTitle": false,
     "title": ""
    }
   },
   "source": [
    "#### B. What is the probability that none of the three orders will be recognised correctly?"
   ]
  },
  {
   "cell_type": "markdown",
   "metadata": {
    "application/vnd.databricks.v1+cell": {
     "cellMetadata": {},
     "inputWidgets": {},
     "nuid": "43e9fa6a-3e55-43bf-8f6d-a477e3facefd",
     "showTitle": false,
     "title": ""
    }
   },
   "source": [
    "<b>Solution </b>: Probability of each order taken incorrectly by the bot = 100% - 86.8% = 0.132"
   ]
  },
  {
   "cell_type": "markdown",
   "metadata": {
    "application/vnd.databricks.v1+cell": {
     "cellMetadata": {},
     "inputWidgets": {},
     "nuid": "a74e21ae-8a91-4f6c-abf8-1845122e1470",
     "showTitle": false,
     "title": ""
    }
   },
   "source": [
    "Probability that all 3 orders are taken incorrectly = 0.132 * 0.132 * 0.132 = 0.0023"
   ]
  },
  {
   "cell_type": "markdown",
   "metadata": {
    "application/vnd.databricks.v1+cell": {
     "cellMetadata": {},
     "inputWidgets": {},
     "nuid": "c30eb736-5f9d-44f6-9e2c-7cab5a69bde1",
     "showTitle": false,
     "title": ""
    }
   },
   "source": [
    "#### C. What is the probability that at least two of the three orders will be recognised correctly?"
   ]
  },
  {
   "cell_type": "markdown",
   "metadata": {
    "application/vnd.databricks.v1+cell": {
     "cellMetadata": {},
     "inputWidgets": {},
     "nuid": "0cba464c-213e-4945-ab2c-cd81d27cd845",
     "showTitle": false,
     "title": ""
    }
   },
   "source": [
    "<b> Solution: </b> Let X be the number of orders taken correctly. To find P(X>=2),"
   ]
  },
  {
   "cell_type": "code",
   "execution_count": 0,
   "metadata": {
    "application/vnd.databricks.v1+cell": {
     "cellMetadata": {},
     "inputWidgets": {},
     "nuid": "da888309-6a05-4f00-a418-f10daa3c8502",
     "showTitle": false,
     "title": ""
    }
   },
   "outputs": [],
   "source": [
    "n=3\n",
    "k=np.arange(n+1)\n",
    "p=0.868 #probability of an order to be taken correctly\n",
    "bin = stats.binom.pmf(k,n,p)\n",
    "sum(bin)-sum(bin[0:2]) #P(X>=2)"
   ]
  },
  {
   "cell_type": "markdown",
   "metadata": {
    "application/vnd.databricks.v1+cell": {
     "cellMetadata": {},
     "inputWidgets": {},
     "nuid": "d3348c56-7184-440f-aa5b-0f3ce534dea5",
     "showTitle": false,
     "title": ""
    }
   },
   "source": [
    "Probability that at least two of the three orders will be recognised correctly = 0.952"
   ]
  },
  {
   "cell_type": "markdown",
   "metadata": {
    "application/vnd.databricks.v1+cell": {
     "cellMetadata": {},
     "inputWidgets": {},
     "nuid": "2a5f4beb-cb11-40c5-9336-9e9b392b3bd6",
     "showTitle": false,
     "title": ""
    }
   },
   "source": [
    "### 5. Question: A group of 300 professionals sat for a competitive exam. The results show the information of marks obtained by them have a mean of 60 and a standard deviation of 12. The pattern of marks follows a normal distribution. Answer the following questions."
   ]
  },
  {
   "cell_type": "markdown",
   "metadata": {
    "application/vnd.databricks.v1+cell": {
     "cellMetadata": {},
     "inputWidgets": {},
     "nuid": "25e94654-bf99-456e-a640-3cc5491a656b",
     "showTitle": false,
     "title": ""
    }
   },
   "source": [
    "#### A. What is the percentage of students who score more than 80."
   ]
  },
  {
   "cell_type": "markdown",
   "metadata": {
    "application/vnd.databricks.v1+cell": {
     "cellMetadata": {},
     "inputWidgets": {},
     "nuid": "ed2387f7-a87d-4942-979e-f0ee0feb1f1c",
     "showTitle": false,
     "title": ""
    }
   },
   "source": [
    "<b> Solution: </b> Since marks follows normal distribution, we can obtain standard normal distribution using z score.\n",
    "z=(80-60)/12 "
   ]
  },
  {
   "cell_type": "markdown",
   "metadata": {
    "application/vnd.databricks.v1+cell": {
     "cellMetadata": {},
     "inputWidgets": {},
     "nuid": "12380d24-bcef-48b8-88a9-768d0ca16e05",
     "showTitle": false,
     "title": ""
    }
   },
   "source": [
    "P(Z>1.67)=1-P(Z<=1.67)"
   ]
  },
  {
   "cell_type": "code",
   "execution_count": 0,
   "metadata": {
    "application/vnd.databricks.v1+cell": {
     "cellMetadata": {},
     "inputWidgets": {},
     "nuid": "4025ca70-a9eb-40ec-97ff-fcccbd93d28b",
     "showTitle": false,
     "title": ""
    }
   },
   "outputs": [],
   "source": [
    "stdev = 12\n",
    "mean = 60\n",
    "z=(80-mean)/stdev \n",
    "1- stats.norm.cdf(z)"
   ]
  },
  {
   "cell_type": "markdown",
   "metadata": {
    "application/vnd.databricks.v1+cell": {
     "cellMetadata": {},
     "inputWidgets": {},
     "nuid": "f728664a-1c60-4e94-bf11-dd56922007f2",
     "showTitle": false,
     "title": ""
    }
   },
   "source": [
    "Percentage of students who scored more than 80 = 4.8%"
   ]
  },
  {
   "cell_type": "markdown",
   "metadata": {
    "application/vnd.databricks.v1+cell": {
     "cellMetadata": {},
     "inputWidgets": {},
     "nuid": "bb9e4229-6d41-4606-b5d1-9f06735697da",
     "showTitle": false,
     "title": ""
    }
   },
   "source": [
    "#### B. What is the percentage of students who score less than 50."
   ]
  },
  {
   "cell_type": "markdown",
   "metadata": {
    "application/vnd.databricks.v1+cell": {
     "cellMetadata": {},
     "inputWidgets": {},
     "nuid": "2ce55a2f-c2a1-4fa1-976d-71343bfec17e",
     "showTitle": false,
     "title": ""
    }
   },
   "source": [
    "<b> Solution: </b>"
   ]
  },
  {
   "cell_type": "code",
   "execution_count": 0,
   "metadata": {
    "application/vnd.databricks.v1+cell": {
     "cellMetadata": {},
     "inputWidgets": {},
     "nuid": "d68bd329-aae0-41a4-a4ad-ec54fbfe8f75",
     "showTitle": false,
     "title": ""
    }
   },
   "outputs": [],
   "source": [
    "z=(50-mean)/stdev\n",
    "stats.norm.cdf(z)"
   ]
  },
  {
   "cell_type": "markdown",
   "metadata": {
    "application/vnd.databricks.v1+cell": {
     "cellMetadata": {},
     "inputWidgets": {},
     "nuid": "cd3fb3ed-0e48-402b-bc55-4c296506b2c1",
     "showTitle": false,
     "title": ""
    }
   },
   "source": [
    "Percentage of students who scored less than 50 = 20.2%"
   ]
  },
  {
   "cell_type": "markdown",
   "metadata": {
    "application/vnd.databricks.v1+cell": {
     "cellMetadata": {},
     "inputWidgets": {},
     "nuid": "1d135df2-a0ff-4aed-aae7-6a5aed38f2b4",
     "showTitle": false,
     "title": ""
    }
   },
   "source": [
    "#### C. What should be the distinction mark if the highest 10% of students are to be awarded distinction?"
   ]
  },
  {
   "cell_type": "markdown",
   "metadata": {
    "application/vnd.databricks.v1+cell": {
     "cellMetadata": {},
     "inputWidgets": {},
     "nuid": "8893cba5-7799-4266-bf82-3568b2083f97",
     "showTitle": false,
     "title": ""
    }
   },
   "source": [
    "<b> Solution: </b> Given, P(z>Threshold ) = 10%"
   ]
  },
  {
   "cell_type": "code",
   "execution_count": 0,
   "metadata": {
    "application/vnd.databricks.v1+cell": {
     "cellMetadata": {},
     "inputWidgets": {},
     "nuid": "dcc25b02-45c7-4871-bc60-5286aa76b9a4",
     "showTitle": false,
     "title": ""
    }
   },
   "outputs": [],
   "source": [
    "z=stats.norm.ppf(0.90)\n",
    "1-stats.norm.cdf(z) #check"
   ]
  },
  {
   "cell_type": "code",
   "execution_count": 0,
   "metadata": {
    "application/vnd.databricks.v1+cell": {
     "cellMetadata": {},
     "inputWidgets": {},
     "nuid": "4ee27e9f-ead1-4396-b23e-830cc9ddfed1",
     "showTitle": false,
     "title": ""
    }
   },
   "outputs": [],
   "source": [
    "distinction_mark = (z*stdev)+mean\n",
    "distinction_mark"
   ]
  },
  {
   "cell_type": "markdown",
   "metadata": {
    "application/vnd.databricks.v1+cell": {
     "cellMetadata": {},
     "inputWidgets": {},
     "nuid": "4abec273-9b46-4d5b-bc31-d2056f533a13",
     "showTitle": false,
     "title": ""
    }
   },
   "source": [
    "Distinction mark should be 75.38"
   ]
  },
  {
   "cell_type": "markdown",
   "metadata": {
    "application/vnd.databricks.v1+cell": {
     "cellMetadata": {},
     "inputWidgets": {},
     "nuid": "194aa399-95c4-4d8a-8e46-2de50aa20cdb",
     "showTitle": false,
     "title": ""
    }
   },
   "source": [
    "### 6. Question: Explain 1 real life industry scenario [other than the ones mentioned above] where you can use the concepts learnt in this module of Applied statistics to get a data driven business solution."
   ]
  },
  {
   "cell_type": "markdown",
   "metadata": {
    "application/vnd.databricks.v1+cell": {
     "cellMetadata": {},
     "inputWidgets": {},
     "nuid": "c8898962-7917-4eaf-8d64-b784898a182e",
     "showTitle": false,
     "title": ""
    }
   },
   "source": [
    "<b> Solution </b>: \n",
    "Data collected at a thermal power plant can be used to analyse various indicators such as below:\n",
    "<br>\n",
    "Electricity generated per day in the plant collected over various months across seasons can reveal various things such as\n",
    "<br>\n",
    "a. Average generation per day and inturn consumption\n",
    "<br>\n",
    "b. How consumption changes between seasons? For ex: Summer vs. winter.\n",
    "<br>\n",
    "c. What is the standard deviation in electricity generated and is it as per process defined? (tolerance levels etc.)\n",
    "<br>\n",
    "d. Are there significant differences between power generated by various turbo generators in a power plant?\n",
    "<br>\n",
    "e. Cost vs. benefit analysis between old turbo generators vs new turbo generators etc.\n",
    "<br>\n",
    "\n",
    "Lets look at d. significant differences between power generated by turbo generators. \n",
    "<br>\n",
    "Lets assume that the power plant contains 2 turbo generators. TG1 and TG2. In a given month, below  is the power generated by both the turbo generators. (capacity 210,000 KW each supposed to be running for 24 hours. 210,000 * 24 = 5,040,000 KWH. 1 unit = 1 KWH. So approximately, each turbo generator is expected to produce 5.04 million units)\n",
    "<br>\n",
    "\n",
    "Below, is the sample data for the 2 turbo generators for 30 days\n",
    "\n",
    "<br>\n",
    "TG1 =[5.40,4.28,4.88,5.70,5.08,5.62,4.01,4.55,5.27,5.68,4.21,4.26,4.91,4.80,5.95,4.68,4.06,4.22,4.06,4.10,5.79,5.19,5.27,5.31,5.05,5.51,5.97,5.39,5.70,4.58]\n",
    "<br>\n",
    "TG2 = [3.89,5.63,4.27,5.26,4.44,5.86,5.48,4.93,5.66,3.96,4.74,4.41,5.96,5.60,5.20,4.79,5.38,4.99,5.70,4.77,4.30,4.08,5.94,5.59,4.51,5.44,5.55,4.17,4.82,5.63]\n",
    "\n",
    "<br> \n",
    "To identify if there is any significant difference between the means of the 2 groups. \n",
    "<br> H0: There is no difference between the mean power generated by both the turbo generators\n",
    "<br> HA: The means of both the groups are different. \n",
    "<br>\n",
    "At alpha = 0.05, \n",
    "we can perform 2 sample t-test to check this"
   ]
  },
  {
   "cell_type": "code",
   "execution_count": 0,
   "metadata": {
    "application/vnd.databricks.v1+cell": {
     "cellMetadata": {},
     "inputWidgets": {},
     "nuid": "474669c7-104b-462d-867b-0add0c3f132a",
     "showTitle": false,
     "title": ""
    }
   },
   "outputs": [],
   "source": [
    "from scipy.stats import ttest_ind\n",
    "\n",
    "TG1 =[5.40,4.28,4.88,5.70,5.08,5.62,4.01,4.55,5.27,5.68,4.21,4.26,4.91,4.80,5.95,4.68,4.06,4.22,4.06,4.10,5.79,5.19,5.27,5.31,5.05,5.51,5.97,5.39,5.70,4.58]\n",
    "TG2 = [3.89,5.63,4.27,5.26,4.44,5.86,5.48,4.93,5.66,3.96,4.74,4.41,5.96,5.60,5.20,4.79,5.38,4.99,5.70,4.77,4.30,4.08,5.94,5.59,4.51,5.44,5.55,4.17,4.82,5.63]\n",
    "\n",
    "t_statistic, p_value = ttest_ind(TG1, TG2)\n",
    "print(t_statistic, p_value)"
   ]
  },
  {
   "cell_type": "markdown",
   "metadata": {
    "application/vnd.databricks.v1+cell": {
     "cellMetadata": {},
     "inputWidgets": {},
     "nuid": "578f517c-0ae9-465a-bde5-14e797215bc3",
     "showTitle": false,
     "title": ""
    }
   },
   "source": [
    "p_value > 0.05. So we cannot reject the null hypothesis in this case. We can conclude that there is no significant difference between the means of both the groups"
   ]
  },
  {
   "cell_type": "markdown",
   "metadata": {
    "application/vnd.databricks.v1+cell": {
     "cellMetadata": {},
     "inputWidgets": {},
     "nuid": "79b9624b-be92-4fdd-99ce-6505be2208a2",
     "showTitle": false,
     "title": ""
    }
   },
   "source": [
    "# Part Two"
   ]
  },
  {
   "cell_type": "markdown",
   "metadata": {
    "application/vnd.databricks.v1+cell": {
     "cellMetadata": {},
     "inputWidgets": {},
     "nuid": "4790cb2a-fac0-4ec4-9a7b-3fe091cb4bd7",
     "showTitle": false,
     "title": ""
    }
   },
   "source": [
    "<b> DOMAIN:</b> Sports"
   ]
  },
  {
   "cell_type": "markdown",
   "metadata": {
    "application/vnd.databricks.v1+cell": {
     "cellMetadata": {},
     "inputWidgets": {},
     "nuid": "a8db64d4-a652-45b1-a1dd-fee4a416b036",
     "showTitle": false,
     "title": ""
    }
   },
   "source": [
    "<b> CONTEXT: </b> Company X manages the men's top professional basketball division of the American league system.\n",
    "The dataset contains information on all the teams that have participated in all the past tournaments. It has data\n",
    "about how many baskets each team scored, conceded, how many times they came within the first 2 positions,\n",
    "how many tournaments they have qualified, their best position in the past, etc."
   ]
  },
  {
   "cell_type": "markdown",
   "metadata": {
    "application/vnd.databricks.v1+cell": {
     "cellMetadata": {},
     "inputWidgets": {},
     "nuid": "3045052a-f1b3-4abd-9fa1-6028048fc53e",
     "showTitle": false,
     "title": ""
    }
   },
   "source": [
    "<b> DATA DESCRIPTION: </b> Basketball.csv - The data set contains information on all the teams so far participated in\n",
    "all the past tournaments"
   ]
  },
  {
   "cell_type": "markdown",
   "metadata": {
    "application/vnd.databricks.v1+cell": {
     "cellMetadata": {},
     "inputWidgets": {},
     "nuid": "8aac4c2a-4482-4cfb-b96a-c0f86b828b92",
     "showTitle": false,
     "title": ""
    }
   },
   "source": [
    "ATTRIBUTE INFORMATION:\n",
    "1. Team: Team’s name\n",
    "2. Tournament: Number of played tournaments.\n",
    "3. Score: Team’s score so far.\n",
    "4. PlayedGames: Games played by the team so far.\n",
    "5. WonGames: Games won by the team so far.\n",
    "6. DrawnGames: Games drawn by the team so far.\n",
    "7. LostGames: Games lost by the team so far.\n",
    "8. BasketScored: Basket scored by the team so far.\n",
    "9. BasketGiven: Basket scored against the team so far.\n",
    "10. TournamentChampion: How many times the team was a champion of the tournaments so far.\n",
    "11. Runner-up: How many times the team was a runners-up of the tournaments so far.\n",
    "12. TeamLaunch: Year the team was launched on professional basketball.\n",
    "13. HighestPositionHeld: Highest position held by the team amongst all the tournaments played."
   ]
  },
  {
   "cell_type": "markdown",
   "metadata": {
    "application/vnd.databricks.v1+cell": {
     "cellMetadata": {},
     "inputWidgets": {},
     "nuid": "c53cc6d6-6919-4336-89e4-5b577de509bb",
     "showTitle": false,
     "title": ""
    }
   },
   "source": [
    "<b> PROJECT OBJECTIVE: </b> Company’s management wants to invest on proposal on managing some of the best\n",
    "teams in the league. The analytics department has been assigned with a task of creating a report on the\n",
    "performance shown by the teams. Some of the older teams are already in contract with competitors. Hence\n",
    "Company X wants to understand which teams they can approach which will be a deal win for them."
   ]
  },
  {
   "cell_type": "markdown",
   "metadata": {
    "application/vnd.databricks.v1+cell": {
     "cellMetadata": {},
     "inputWidgets": {},
     "nuid": "22aaad6d-4c51-4b17-80c8-b68c5b045bb1",
     "showTitle": false,
     "title": ""
    }
   },
   "source": [
    "#### Problem statement: To identify best teams in the league to approach for a winning deal/contract.\n",
    "#### Given, some old teams are already in contract. Need to locate new teams that are best. Also provide old best teams so management can locate the ones without contract."
   ]
  },
  {
   "cell_type": "code",
   "execution_count": 0,
   "metadata": {
    "application/vnd.databricks.v1+cell": {
     "cellMetadata": {},
     "inputWidgets": {},
     "nuid": "0543ae41-e5dc-472c-b2e7-719fd10f4aba",
     "showTitle": false,
     "title": ""
    }
   },
   "outputs": [],
   "source": [
    "# Hints: \n",
    "# 1. Prepare a detailed performance report based on input data \n",
    "# 2. Use statistical techniques and visualisation techniques to come up with useful metrics and reporting.\n",
    "# 3. Create your own features if required.Be highly experimental and analytical here to find hidden patterns.\n",
    "# 4. Use graphical interactive libraries to enable you to publish interactive plots in python."
   ]
  },
  {
   "cell_type": "markdown",
   "metadata": {
    "application/vnd.databricks.v1+cell": {
     "cellMetadata": {},
     "inputWidgets": {},
     "nuid": "4af1900c-726b-44a4-bf5b-5e02dbddfdff",
     "showTitle": false,
     "title": ""
    }
   },
   "source": [
    "<b> Steps and tasks: </b>\n",
    "1. Read the data set, clean the data and prepare a final dataset to be used for analysis."
   ]
  },
  {
   "cell_type": "markdown",
   "metadata": {
    "application/vnd.databricks.v1+cell": {
     "cellMetadata": {},
     "inputWidgets": {},
     "nuid": "eabc097f-9ae4-457f-a821-18d244e28091",
     "showTitle": false,
     "title": ""
    }
   },
   "source": [
    "<b> Solution: </b>"
   ]
  },
  {
   "cell_type": "markdown",
   "metadata": {
    "application/vnd.databricks.v1+cell": {
     "cellMetadata": {},
     "inputWidgets": {},
     "nuid": "602302cc-018c-4f33-884f-27e0566fc324",
     "showTitle": false,
     "title": ""
    }
   },
   "source": [
    "#### 1. Read the data set, clean the data and prepare a final dataset to be used for analysis."
   ]
  },
  {
   "cell_type": "code",
   "execution_count": 0,
   "metadata": {
    "application/vnd.databricks.v1+cell": {
     "cellMetadata": {},
     "inputWidgets": {},
     "nuid": "20be731a-d8fe-4d3e-9b1c-90595dd25c91",
     "showTitle": false,
     "title": ""
    }
   },
   "outputs": [],
   "source": [
    "import pandas as pd\n",
    "import numpy as np\n",
    "from datetime import date\n",
    "import seaborn as sns\n",
    "import matplotlib.pyplot as plt\n",
    "from plotly import offline\n",
    "import plotly.express as px\n",
    "sns.set(color_codes=True)\n",
    "%matplotlib inline"
   ]
  },
  {
   "cell_type": "code",
   "execution_count": 0,
   "metadata": {
    "application/vnd.databricks.v1+cell": {
     "cellMetadata": {},
     "inputWidgets": {},
     "nuid": "51135f2c-1bf9-44f6-b882-edff31e29c1b",
     "showTitle": false,
     "title": ""
    }
   },
   "outputs": [],
   "source": [
    "file_path = 'DS - Part2 - Basketball.csv' \n",
    "bb_data = pd.read_csv(file_path) # read csv file into dataframe\n",
    "bb_data.head() #check top columns"
   ]
  },
  {
   "cell_type": "markdown",
   "metadata": {
    "application/vnd.databricks.v1+cell": {
     "cellMetadata": {},
     "inputWidgets": {},
     "nuid": "d4607c50-0d07-4978-a814-60b6396bc103",
     "showTitle": false,
     "title": ""
    }
   },
   "source": [
    "#### Step 1: Clean the dataset"
   ]
  },
  {
   "cell_type": "code",
   "execution_count": 0,
   "metadata": {
    "application/vnd.databricks.v1+cell": {
     "cellMetadata": {},
     "inputWidgets": {},
     "nuid": "f189b0fe-f6f1-40dd-a86b-b6dd4613c9a3",
     "showTitle": false,
     "title": ""
    }
   },
   "outputs": [],
   "source": [
    "bb_data.info() #check datatypes of columns are as expected. \n",
    "# info() reveals many of the numeric variables have non-numerical data"
   ]
  },
  {
   "cell_type": "code",
   "execution_count": 0,
   "metadata": {
    "application/vnd.databricks.v1+cell": {
     "cellMetadata": {},
     "inputWidgets": {},
     "nuid": "0876be3e-f4ee-4ca5-9794-df0ae3f8ba80",
     "showTitle": false,
     "title": ""
    }
   },
   "outputs": [],
   "source": [
    "bb_data.isna().sum() # reveals there are no missing values. "
   ]
  },
  {
   "cell_type": "code",
   "execution_count": 0,
   "metadata": {
    "application/vnd.databricks.v1+cell": {
     "cellMetadata": {},
     "inputWidgets": {},
     "nuid": "15ac8072-0ec2-4567-bd73-dbb64fbc09b6",
     "showTitle": false,
     "title": ""
    }
   },
   "outputs": [],
   "source": [
    "#Score,PlayedGames,WonGames,DrawnGames,LostGames,BasketScored,BasketGiven,TournamentChampion,Runner-up are numeric data but has non-numeric entries\n",
    "# Loop through each of these columns and print error data in these columns\n",
    "\n",
    "#initialise dataframe that will have unique garbage data for each column\n",
    "error_frame = pd.DataFrame()\n",
    "\n",
    "for col in bb_data.columns:\n",
    "    \n",
    "    # check for non-integer values and append the column and corresponding non-integer data into error_frame\n",
    "    #TeamLaunch column is included in if condition as it has different formatting in data (bb_data.head())\n",
    "    \n",
    "    if col not in ['Team', 'Tournament', 'HighestPositionHeld','TeamLaunch']:\n",
    "        #check for non-integer values and pick up unique string values (these are presumably garbage)\n",
    "        error_col = pd.Series(data=bb_data[col][bb_data[col].apply(lambda x: x.isdigit()) == False].unique(),name = col)\n",
    "        #add column and set of unique string values sto error_frame\n",
    "        error_frame[col]=error_col\n",
    "print(error_frame)"
   ]
  },
  {
   "cell_type": "code",
   "execution_count": 0,
   "metadata": {
    "application/vnd.databricks.v1+cell": {
     "cellMetadata": {},
     "inputWidgets": {},
     "nuid": "f5eb0dc7-7662-4371-af22-a0179294563a",
     "showTitle": false,
     "title": ""
    }
   },
   "outputs": [],
   "source": [
    "# String value is '-' across all columns.\n",
    "# check how it occurs across all columns to decide on how to handle them\n",
    "pd.set_option(\"display.max_columns\", None)\n",
    "bb_data[(bb_data ==error_frame.iloc[0,0]).any(axis=1)]  #if value == '-' in any column, display row"
   ]
  },
  {
   "cell_type": "code",
   "execution_count": 0,
   "metadata": {
    "application/vnd.databricks.v1+cell": {
     "cellMetadata": {},
     "inputWidgets": {},
     "nuid": "81ed720b-9d53-44f1-9a42-5dd6836ddbc4",
     "showTitle": false,
     "title": ""
    }
   },
   "outputs": [],
   "source": [
    "# its clear that row corresponding to index 60 can be dropped as it doesn't have much info. \n",
    "# They are also a very new team and have played only 1 tournament\n",
    "# take copy of dataframe before modifying\n",
    "p_bb_data = bb_data.copy()"
   ]
  },
  {
   "cell_type": "code",
   "execution_count": 0,
   "metadata": {
    "application/vnd.databricks.v1+cell": {
     "cellMetadata": {},
     "inputWidgets": {},
     "nuid": "c28bee11-4303-41bb-adfe-be91658d386a",
     "showTitle": false,
     "title": ""
    }
   },
   "outputs": [],
   "source": [
    "# 'TournamentChampion' and 'Runner-up' columns: '-' can be replaced with 0\n",
    "p_bb_data['TournamentChampion'].replace(error_frame.iloc[0,0],0,inplace=True)\n",
    "p_bb_data['Runner-up'].replace(error_frame.iloc[0,0],0,inplace=True)\n",
    "\n",
    "#drop row with index 60\n",
    "p_bb_data.replace(error_frame.iloc[0,0],np.nan,inplace=True)\n",
    "p_bb_data.dropna(axis=0,how='any',inplace=True)\n",
    "# p_bb_data.drop(60,inplace=True)\n",
    "\n",
    "#TeamLaunch has different formmatting for various rows.\n",
    "p_bb_data['TeamLaunch'].unique()"
   ]
  },
  {
   "cell_type": "code",
   "execution_count": 0,
   "metadata": {
    "application/vnd.databricks.v1+cell": {
     "cellMetadata": {},
     "inputWidgets": {},
     "nuid": "b4128e69-5e0b-4006-88eb-c545d99c1d37",
     "showTitle": false,
     "title": ""
    }
   },
   "outputs": [],
   "source": [
    "p_bb_data.info()"
   ]
  },
  {
   "cell_type": "code",
   "execution_count": 0,
   "metadata": {
    "application/vnd.databricks.v1+cell": {
     "cellMetadata": {},
     "inputWidgets": {},
     "nuid": "989f0d6c-5341-49fb-90fd-72b65281b9cf",
     "showTitle": false,
     "title": ""
    }
   },
   "outputs": [],
   "source": [
    "# 'TeamLaunch' - add another column which calculates number of years in play. which is current year - first four characters of 'TeamLaunch'\n",
    "#prefix new column with p_to indicate processed data\n",
    "\n",
    "p_bb_data['p_YearsPlayed'] = date.today().year - p_bb_data['TeamLaunch'].apply(lambda x: int(x[0:4]))\n",
    "\n",
    "#data type of Score, PlayedGames, WonGames, DrawnGames, LostGames, BasketScored, BasketGiven, TournamentChampion, Runner-up to be changed to int\n",
    "\n",
    "for col in p_bb_data.columns:\n",
    "        \n",
    "    if col not in ['Team', 'Tournament', 'HighestPositionHeld','TeamLaunch', 'p_YearsPlayed']:\n",
    "        p_bb_data[col] = pd.to_numeric(p_bb_data[col],errors='raise',downcast='integer')\n",
    "    else:\n",
    "        pass\n",
    "# end of for\n",
    "\n",
    "p_bb_data.info()"
   ]
  },
  {
   "cell_type": "code",
   "execution_count": 0,
   "metadata": {
    "application/vnd.databricks.v1+cell": {
     "cellMetadata": {},
     "inputWidgets": {},
     "nuid": "7ec094bd-774e-40eb-a219-0e79965238dc",
     "showTitle": false,
     "title": ""
    }
   },
   "outputs": [],
   "source": [
    "###### Step 2: check if relation between columns are as expected\n",
    "###### PlayedGames = WonGames + DrawnGames + LostGames\n",
    "###### Tournament > TournamentChampion + Runner-up\n",
    "###### Max(Tournament) is close to sum(TournamentChampion + Runner-up)/2 \n"
   ]
  },
  {
   "cell_type": "code",
   "execution_count": 0,
   "metadata": {
    "application/vnd.databricks.v1+cell": {
     "cellMetadata": {},
     "inputWidgets": {},
     "nuid": "85d47f99-dfb5-4fd2-b756-ce2e3c37381e",
     "showTitle": false,
     "title": ""
    }
   },
   "outputs": [],
   "source": [
    "sum(p_bb_data['PlayedGames']-p_bb_data['WonGames']-p_bb_data['DrawnGames']-p_bb_data['LostGames'])\n",
    "\n",
    "df=p_bb_data[(p_bb_data['PlayedGames']-p_bb_data['WonGames']-p_bb_data['DrawnGames']-p_bb_data['LostGames'])>0]\n",
    "df"
   ]
  },
  {
   "cell_type": "code",
   "execution_count": 0,
   "metadata": {
    "application/vnd.databricks.v1+cell": {
     "cellMetadata": {},
     "inputWidgets": {},
     "nuid": "13f4ad91-d4eb-4f95-b166-f557d51da92a",
     "showTitle": false,
     "title": ""
    }
   },
   "outputs": [],
   "source": [
    "# Row with index 22: Update \"PlayedGames\" to maintain relationship. One of those values is wrong. Dropping this row will leave out a team. \n",
    "#\"PlayedGames\" is only off by a lower %\n",
    "p_bb_data.loc[22,'PlayedGames'] = p_bb_data.loc[22,'WonGames']+ p_bb_data.loc[22,'LostGames'] + p_bb_data.loc[22,'DrawnGames']\n"
   ]
  },
  {
   "cell_type": "code",
   "execution_count": 0,
   "metadata": {
    "application/vnd.databricks.v1+cell": {
     "cellMetadata": {},
     "inputWidgets": {},
     "nuid": "96a241a9-71b8-43ed-b29e-4d43e219bbcf",
     "showTitle": false,
     "title": ""
    }
   },
   "outputs": [],
   "source": [
    "######  Tournament > TournamentChampion + Runner-up\n",
    "sum(p_bb_data['Tournament'] >= p_bb_data['TournamentChampion'] + p_bb_data['Runner-up'])"
   ]
  },
  {
   "cell_type": "code",
   "execution_count": 0,
   "metadata": {
    "application/vnd.databricks.v1+cell": {
     "cellMetadata": {},
     "inputWidgets": {},
     "nuid": "eb75e6f8-fc43-4457-9611-6912a81c52a7",
     "showTitle": false,
     "title": ""
    }
   },
   "outputs": [],
   "source": [
    " p_bb_data['Tournament'].max() - ((p_bb_data['TournamentChampion'].sum() + p_bb_data['Runner-up'].sum())/ 2)"
   ]
  },
  {
   "cell_type": "code",
   "execution_count": 0,
   "metadata": {
    "application/vnd.databricks.v1+cell": {
     "cellMetadata": {},
     "inputWidgets": {},
     "nuid": "c4af3699-9313-4574-ba61-c77d9f00990e",
     "showTitle": false,
     "title": ""
    }
   },
   "outputs": [],
   "source": [
    "#  Tournament >= TournamentChampion + Runner-up relationship is maintained across all rows\n",
    "# Also it appears that the top 2 finishes of the tracked tournaments could have been captured. So filling up of 'TournamentChampion'\n",
    "# and 'Runner-up' with zeroes should be ok\n",
    "# check for duplicates for Team entries before we apply aggregate functions\n",
    "p_bb_data.groupby('Team').size().sort_values()"
   ]
  },
  {
   "cell_type": "markdown",
   "metadata": {
    "application/vnd.databricks.v1+cell": {
     "cellMetadata": {},
     "inputWidgets": {},
     "nuid": "960bc629-2214-463a-bd4e-e26ca09fb3c4",
     "showTitle": false,
     "title": ""
    }
   },
   "source": [
    "####  p_bb_data is now the cleaned dataset"
   ]
  },
  {
   "cell_type": "markdown",
   "metadata": {
    "application/vnd.databricks.v1+cell": {
     "cellMetadata": {},
     "inputWidgets": {},
     "nuid": "51ff6d9f-0a10-493e-ad31-8ae59bbf1886",
     "showTitle": false,
     "title": ""
    }
   },
   "source": [
    "#### 2. Perform detailed statistical analysis and EDA using univariate, bi-variate and multivariate EDA techniques to get a data driven insights on recommending which teams they can approach which will be a deal win for them.. Also as a data and statistics expert you have to develop a detailed performance report using this data"
   ]
  },
  {
   "cell_type": "code",
   "execution_count": 0,
   "metadata": {
    "application/vnd.databricks.v1+cell": {
     "cellMetadata": {},
     "inputWidgets": {},
     "nuid": "24855d85-23e1-4230-a374-fcb41df0318a",
     "showTitle": false,
     "title": ""
    }
   },
   "outputs": [],
   "source": [
    "#  add processed variables to the dataset\n",
    "#  introduce features that can be compared for both new team as well as old teams\n",
    "\n",
    "# percent of games won. handle divide by zero error\n",
    "p_bb_data['p_PercentWonGames']= p_bb_data['WonGames'].div(p_bb_data['PlayedGames']).replace(np.inf, 0)\n",
    "\n",
    "# percent of games lost. handle divide by zero error\n",
    "p_bb_data['p_PercentLostGames']= p_bb_data['LostGames'].div(p_bb_data['PlayedGames']).replace(np.inf, 0)\n",
    "\n",
    "# percent of games drawn. handle divide by zero error\n",
    "p_bb_data['p_PercentDrawnGames']= p_bb_data['DrawnGames'].div(p_bb_data['PlayedGames']).replace(np.inf, 0)\n",
    "\n",
    "# check if they add up to 100\n",
    "sum(p_bb_data['p_PercentWonGames']+p_bb_data['p_PercentLostGames']+p_bb_data['p_PercentDrawnGames'])"
   ]
  },
  {
   "cell_type": "code",
   "execution_count": 0,
   "metadata": {
    "application/vnd.databricks.v1+cell": {
     "cellMetadata": {},
     "inputWidgets": {},
     "nuid": "0d278654-708c-4da4-9fd9-c57bebaa0c10",
     "showTitle": false,
     "title": ""
    }
   },
   "outputs": [],
   "source": [
    "# calculate 'p_NetBasketPerGame'. could reveal whether team is offensive or defensive\n",
    "p_bb_data['p_NetBasketPerGame'] = (p_bb_data['BasketScored'] - p_bb_data['BasketGiven']).div(p_bb_data['PlayedGames']).replace(np.inf, 0)\n",
    "# ratio of number of tournaments in top 2 vs. number of tournaments played\n",
    "p_bb_data['p_Top2Positions'] = p_bb_data['TournamentChampion'] + p_bb_data['Runner-up']\n",
    "p_bb_data['p_PercentTop2Positions'] = (p_bb_data['TournamentChampion'] + p_bb_data['Runner-up']).div(p_bb_data['Tournament']).replace(np.inf, 0)\n",
    "\n",
    "# Average games per year and Average tournaments per year\n",
    "p_bb_data['p_Tournament'] = p_bb_data['Tournament'].div(p_bb_data['p_YearsPlayed']).replace(np.inf,0)\n",
    "p_bb_data['p_PlayedGames'] = p_bb_data['PlayedGames'].div(p_bb_data['p_YearsPlayed']).replace(np.inf,0)\n",
    "\n",
    "# analyse 8 point summary\n",
    "p_bb_data.describe()\n",
    "\n",
    "\n",
    "##### Note: \n",
    "##### 1. some of the old/top performing teams are skewing many of the variables in the input dataset\n",
    "##### 2. p_Tournament, p_PlayedGames show that not all teams might play every year. Might be some of the old teams are not playing ?\n",
    "##### 3. Median p_PercentWonGames = 30.5%. Thats the median win ratio"
   ]
  },
  {
   "cell_type": "code",
   "execution_count": 0,
   "metadata": {
    "application/vnd.databricks.v1+cell": {
     "cellMetadata": {},
     "inputWidgets": {},
     "nuid": "e5c4f1a3-f49b-4ff8-965a-b7ad0101d48e",
     "showTitle": false,
     "title": ""
    }
   },
   "outputs": [],
   "source": [
    "cor = p_bb_data[['Tournament',\n",
    "                  'Score',\n",
    "                  'PlayedGames',\n",
    "                  'p_YearsPlayed',\n",
    "                ]].corr()\n",
    "cor"
   ]
  },
  {
   "cell_type": "markdown",
   "metadata": {
    "application/vnd.databricks.v1+cell": {
     "cellMetadata": {},
     "inputWidgets": {},
     "nuid": "0c281c1a-82d5-4d10-a6fd-fdb6a9c5bb83",
     "showTitle": false,
     "title": ""
    }
   },
   "source": [
    "##### While PlayedGames, Tournament and Score have a  very strong positive correlation, strength of correlation of p_YearsPlayed with this set is slightly lower. This could indicate some of the older teams are not playing"
   ]
  },
  {
   "cell_type": "code",
   "execution_count": 0,
   "metadata": {
    "application/vnd.databricks.v1+cell": {
     "cellMetadata": {},
     "inputWidgets": {},
     "nuid": "13e2d121-0dfc-400e-a943-8b80ff76f9e1",
     "showTitle": false,
     "title": ""
    }
   },
   "outputs": [],
   "source": [
    "cor = p_bb_data[[ 'Score',\n",
    "                  'p_YearsPlayed',\n",
    "                  'p_PercentWonGames',\n",
    "                  'p_PercentLostGames',\n",
    "                  'p_PercentDrawnGames',\n",
    "                  'p_NetBasketPerGame',\n",
    "                  'p_Top2Positions',\n",
    "                  'p_PercentTop2Positions',\n",
    "                  'p_Tournament',\n",
    "                ]].corr()\n",
    "cor"
   ]
  },
  {
   "cell_type": "markdown",
   "metadata": {
    "application/vnd.databricks.v1+cell": {
     "cellMetadata": {},
     "inputWidgets": {},
     "nuid": "eec65fbe-c0f6-468b-9b81-1cafae461d0c",
     "showTitle": false,
     "title": ""
    }
   },
   "source": [
    "##### 1. Score has high positive correlation with p_PercentWonGames, p_Top2Positions, p_Tournament. Since Score also has high positive correlation with 'Tournament', it could have been calculated since team launch? \n",
    "##### 2. p_PercentWonGames has positive and strong correlation with Score, p_Top2Positions, p_Tournament. Highly performing teams are likely to play many tournaments and games which could improve their score\n",
    "#####  3. p_PercentTop2Positions has high positive correlation with p_NetBasketPerGame\tamongst other variables, as expected"
   ]
  },
  {
   "cell_type": "code",
   "execution_count": 0,
   "metadata": {
    "application/vnd.databricks.v1+cell": {
     "cellMetadata": {},
     "inputWidgets": {},
     "nuid": "89b50a26-3410-485e-a5b3-9d39e6595e0c",
     "showTitle": false,
     "title": ""
    }
   },
   "outputs": [],
   "source": [
    "# Lets look at pair plots for these variables for analysis\n",
    "sns.pairplot(p_bb_data[['Score','p_YearsPlayed','p_PercentWonGames', 'p_PercentDrawnGames','p_NetBasketPerGame','p_PercentTop2Positions','p_PlayedGames']])"
   ]
  },
  {
   "cell_type": "markdown",
   "metadata": {
    "application/vnd.databricks.v1+cell": {
     "cellMetadata": {},
     "inputWidgets": {},
     "nuid": "ec2e2024-811d-40c5-9bc2-4e08a924b0de",
     "showTitle": false,
     "title": ""
    }
   },
   "source": [
    "##### 1.Two teams are outliers with high win percentage and high Top2 positions\n",
    "##### 2.Generally, teams dominating in terms of winning, top 2 finishes are older teams"
   ]
  },
  {
   "cell_type": "code",
   "execution_count": 0,
   "metadata": {
    "application/vnd.databricks.v1+cell": {
     "cellMetadata": {},
     "inputWidgets": {},
     "nuid": "848520d8-cb50-4356-9362-5b7817e8bc93",
     "showTitle": false,
     "title": ""
    }
   },
   "outputs": [],
   "source": [
    "p_bb_data[['Team','p_YearsPlayed','p_PercentTop2Positions']].groupby(['Team','p_YearsPlayed']).sum()['p_PercentTop2Positions'].sort_values(ascending=False).head(10) # this could identify new teams"
   ]
  },
  {
   "cell_type": "markdown",
   "metadata": {
    "application/vnd.databricks.v1+cell": {
     "cellMetadata": {},
     "inputWidgets": {},
     "nuid": "b249c7a6-82c9-4df5-9f95-56c178ed86cc",
     "showTitle": false,
     "title": ""
    }
   },
   "source": [
    "##### Team 1, Team 2, Team 3, Team 5 and Team 4 are top performing teams and they are very old as well. Team 21 is a fairly recent team that has decent conversion of top 2 positions (Median for p_YearsPlayed is 71 years, max - 92 and min - 5)"
   ]
  },
  {
   "cell_type": "code",
   "execution_count": 0,
   "metadata": {
    "application/vnd.databricks.v1+cell": {
     "cellMetadata": {},
     "inputWidgets": {},
     "nuid": "640e43f3-386d-4967-949d-e5f25d6ccc79",
     "showTitle": false,
     "title": ""
    }
   },
   "outputs": [],
   "source": [
    "p_bb_data[['Team','p_YearsPlayed','p_PercentWonGames']].groupby(['Team','p_YearsPlayed']).sum()['p_PercentWonGames'].sort_values(ascending=False).head(20)"
   ]
  },
  {
   "cell_type": "markdown",
   "metadata": {
    "application/vnd.databricks.v1+cell": {
     "cellMetadata": {},
     "inputWidgets": {},
     "nuid": "40f213ae-5963-4dc9-9ccd-62ee70baea7a",
     "showTitle": false,
     "title": ""
    }
   },
   "source": [
    "#####  Teams with higher %win are the old teams. Team 1 and Team 2 are the 2 teams with outstanding performance\n",
    "##### Team 21 and Team 39 are 2 more recent teams with win% higher than median"
   ]
  },
  {
   "cell_type": "code",
   "execution_count": 0,
   "metadata": {
    "application/vnd.databricks.v1+cell": {
     "cellMetadata": {},
     "inputWidgets": {},
     "nuid": "2d769cb0-1cd4-49f0-9a08-be2f9e5be789",
     "showTitle": false,
     "title": ""
    }
   },
   "outputs": [],
   "source": [
    "p_bb_data[['Team','p_YearsPlayed','Score']].groupby(['Team','Score']).sum()['p_YearsPlayed'].sort_values(ascending=False).head(30)"
   ]
  },
  {
   "cell_type": "markdown",
   "metadata": {
    "application/vnd.databricks.v1+cell": {
     "cellMetadata": {},
     "inputWidgets": {},
     "nuid": "83b58c36-f7e9-4351-8a09-e7dfa78963fb",
     "showTitle": false,
     "title": ""
    }
   },
   "source": [
    "##### Some older teams such as Team 52, 45, 54, 29 26 etc. are with very low scores. Team 54 and 45 have above median win%. It is not clear if these teams are still playing as total number of tournaments played by these teams are also quite low"
   ]
  },
  {
   "cell_type": "code",
   "execution_count": 0,
   "metadata": {
    "application/vnd.databricks.v1+cell": {
     "cellMetadata": {},
     "inputWidgets": {},
     "nuid": "15ef0df4-3db4-4f97-b3f9-d130026a0672",
     "showTitle": false,
     "title": ""
    }
   },
   "outputs": [],
   "source": [
    "p_bb_data[['Team','p_YearsPlayed','p_PercentWonGames']].groupby(['Team','p_PercentWonGames']).sum()['p_YearsPlayed'].sort_values(ascending=True).head(15)"
   ]
  },
  {
   "cell_type": "markdown",
   "metadata": {
    "application/vnd.databricks.v1+cell": {
     "cellMetadata": {},
     "inputWidgets": {},
     "nuid": "5facc7f8-f67a-4e6d-8e44-e8eb0cf3c59a",
     "showTitle": false,
     "title": ""
    }
   },
   "source": [
    "##### Team 44, 25, 21, 39 are relatively new teams with  p_PercentWonGames > median value"
   ]
  },
  {
   "cell_type": "code",
   "execution_count": 0,
   "metadata": {
    "application/vnd.databricks.v1+cell": {
     "cellMetadata": {},
     "inputWidgets": {},
     "nuid": "02c92746-fb58-4dc5-8ec4-f19020ae03f5",
     "showTitle": false,
     "title": ""
    }
   },
   "outputs": [],
   "source": [
    "offline.init_notebook_mode() # require this for graphs to appear while exporting into .html\n",
    "# Plot bubble chart \n",
    "median_p_YearsPlayed = p_bb_data['p_YearsPlayed'].median()\n",
    "median_p_PercentWonGames = p_bb_data['p_PercentWonGames'].median() \n",
    "\n",
    "fig = px.scatter(data_frame = p_bb_data, x='p_YearsPlayed', y='p_PercentWonGames',\n",
    "                 hover_name='Team',size='Score',labels=dict(p_YearsPlayed='Number of years since team launch', p_PercentWonGames='% games won')\n",
    "                )\n",
    "fig.add_shape(type='line',\n",
    "    x0=median_p_YearsPlayed, y0=0, x1=median_p_YearsPlayed, y1=1,\n",
    "    line=dict(color=\"green\",width=2)\n",
    ")\n",
    "fig.add_shape(type='line',\n",
    "    x0=0, y0=median_p_PercentWonGames, x1=p_bb_data['p_YearsPlayed'].max()+10, y1=median_p_PercentWonGames,\n",
    "    line=dict(color=\"green\",width=2)\n",
    ")\n",
    "fig.show()\n",
    "# lines cut at medians"
   ]
  },
  {
   "cell_type": "markdown",
   "metadata": {
    "application/vnd.databricks.v1+cell": {
     "cellMetadata": {},
     "inputWidgets": {},
     "nuid": "98dcc5e4-c50f-4bb3-8bdb-a29043781bc2",
     "showTitle": false,
     "title": ""
    }
   },
   "source": [
    "##### Team 21 and Team 25 are recent teams that are performing well. Team 39's %games won is higher than median but their 'Score' is low"
   ]
  },
  {
   "cell_type": "code",
   "execution_count": 0,
   "metadata": {
    "application/vnd.databricks.v1+cell": {
     "cellMetadata": {},
     "inputWidgets": {},
     "nuid": "4b33f481-9174-4fd8-9092-0d7171374b40",
     "showTitle": false,
     "title": ""
    }
   },
   "outputs": [],
   "source": [
    "# Plot bubble chart \n",
    "median_p_Top2Positions = p_bb_data['p_Top2Positions'].median() \n",
    "\n",
    "fig = px.scatter(data_frame = p_bb_data, x='p_YearsPlayed', y='p_Top2Positions',\n",
    "                 hover_name='Team',size='Score',labels=dict(p_YearsPlayed='Number of years since team launch', p_Top2Positions='Number of Top2 finishes')\n",
    "                )\n",
    "fig.add_shape(type='line',\n",
    "    x0=median_p_YearsPlayed, y0=-1, x1=median_p_YearsPlayed, y1=p_bb_data['p_Top2Positions'].max()+10,\n",
    "    line=dict(color=\"green\",width=2)\n",
    ")\n",
    "fig.add_shape(type='line',\n",
    "    x0=0, y0=median_p_Top2Positions, x1=p_bb_data['p_YearsPlayed'].max()+10, y1=median_p_Top2Positions,\n",
    "    line=dict(color=\"green\",width=2)\n",
    ")\n",
    "fig.show()\n",
    "# lines cut at medians"
   ]
  },
  {
   "cell_type": "markdown",
   "metadata": {
    "application/vnd.databricks.v1+cell": {
     "cellMetadata": {},
     "inputWidgets": {},
     "nuid": "d51f2454-e41d-4092-95db-4282613af096",
     "showTitle": false,
     "title": ""
    }
   },
   "source": [
    "##### Top 2 finishes doesnt really reveal much about performance of various teams as there are only very selective list of teams that have won titles and they are there for very long. Top 10%-15% finish could have been a better feature"
   ]
  },
  {
   "cell_type": "markdown",
   "metadata": {
    "application/vnd.databricks.v1+cell": {
     "cellMetadata": {},
     "inputWidgets": {},
     "nuid": "6a5e36d2-fcc2-44e0-9ad2-3b85d318f296",
     "showTitle": false,
     "title": ""
    }
   },
   "source": [
    "##### Report Summary:"
   ]
  },
  {
   "cell_type": "markdown",
   "metadata": {
    "application/vnd.databricks.v1+cell": {
     "cellMetadata": {},
     "inputWidgets": {},
     "nuid": "5bf81434-d65c-43f0-8cd4-f9fa2254289c",
     "showTitle": false,
     "title": ""
    }
   },
   "source": [
    "From the sample data that was provided, the below observations are made:\n",
    "<br>\n",
    "    a. This market looks heavily favourable for teams that were playing for a longer duration (80+ years). Relatively new teams seem to find it tough to win matches and tournaments\n",
    "<br>\n",
    "    b. Some of the teams seem to be not playing any more. Features tracking recent data could have given us a better perspective.\n",
    "<br>\n",
    "    c. Two teams: Team 1 and Team 2 are dominating by finishing in the top 2 of many tournaments. They also have very high % of matches won\n",
    "<br>\n",
    "    d. Team 21 is a relatively new team but has higher % matches won and also been a runner up once\n",
    "<br> \n",
    "    e. Team 21 is the team to go for bid/contract proposal if we are looking at recent teams. In old teams, the top teams with highest % of matches won and with high score can be approached if they don't have a contract"
   ]
  },
  {
   "cell_type": "markdown",
   "metadata": {
    "application/vnd.databricks.v1+cell": {
     "cellMetadata": {},
     "inputWidgets": {},
     "nuid": "15d8963c-6348-472d-8960-79dd80eac649",
     "showTitle": false,
     "title": ""
    }
   },
   "source": [
    "#### 3. Please include any improvements or suggestions to the association management on quality, quantity, variety, velocity, veracity etc. on the data points collected by the association to perform a better data analysis in future."
   ]
  },
  {
   "cell_type": "markdown",
   "metadata": {
    "application/vnd.databricks.v1+cell": {
     "cellMetadata": {},
     "inputWidgets": {},
     "nuid": "bb184deb-a025-4761-8a4a-a0ef24e0157f",
     "showTitle": false,
     "title": ""
    }
   },
   "source": [
    "<b> Quality: </b> \n",
    "<br>\n",
    "a. Missing values for 'TournamentChampion', 'Runner-up' etc. could be filled up with zeros. Rows such as index '60' with not much information could be avoided. Formatting of 'TeamLaunch' year could be standardised.\n",
    "<br>\n",
    "b. Inter relationship between columns and files (if multiple input files) should be checked. For example: Here for index 22, 'PlayedGames' was not equal to 'WonGames'+'DrawnGames'+'LostGames'\n",
    "<br>\n",
    "<br>\n",
    "<b> Variety/Velocity/Veracity: </b>\n",
    "<br>\n",
    "a. Analysis reveals that some of the teams might not be playing anymore. Recency in data would help us analyse better.\n",
    "A team's performance in the past 3 years is a better data point than measuring it's performance from it's launch\n",
    "<br>\n",
    "b. 'Score' doesn't look like it gives higher weightage to recent performance. Higher weightages to recent performance would be a better indicator\n",
    "<br>\n",
    "c. 'Tournaments' could involve small leagues as well as big leagues. Capturing them separately would reveal better information on teams that are doing well on the major as well as minor leagues.\n",
    "<br> \n",
    "d. Capturing only the Top 2 finishes doesn't provide much information. Only  a handful of teams do that. Instead looking at top 10% finish in different tournaments would give us a better indicator.\n",
    "<br>\n",
    "\n"
   ]
  },
  {
   "cell_type": "markdown",
   "metadata": {
    "application/vnd.databricks.v1+cell": {
     "cellMetadata": {},
     "inputWidgets": {},
     "nuid": "a646bce3-9b9e-47d0-84da-2b9cbcd4810d",
     "showTitle": false,
     "title": ""
    }
   },
   "source": [
    "# Part Three"
   ]
  },
  {
   "cell_type": "markdown",
   "metadata": {
    "application/vnd.databricks.v1+cell": {
     "cellMetadata": {},
     "inputWidgets": {},
     "nuid": "9a892799-26c9-4297-a4f1-1c98dc4f5b3d",
     "showTitle": false,
     "title": ""
    }
   },
   "source": [
    "<b> DOMAIN: </b> Startup ecosystem"
   ]
  },
  {
   "cell_type": "markdown",
   "metadata": {
    "application/vnd.databricks.v1+cell": {
     "cellMetadata": {},
     "inputWidgets": {},
     "nuid": "46d6b914-8600-4a3e-aaf5-f462c983ade6",
     "showTitle": false,
     "title": ""
    }
   },
   "source": [
    "<b> CONTEXT: </b> Company X is a EU online publisher focusing on the startups industry. The company specifically reports on the business related to\n",
    "technology news, analysis of emerging trends and profiling of new tech businesses and products. Their event i.e. Startup Battlefield is the\n",
    "world’s pre-eminent startup competition. Startup Battlefield features 15-30 top early stage startups pitching top judges in front of a vast live\n",
    "audience, present in person and online."
   ]
  },
  {
   "cell_type": "markdown",
   "metadata": {
    "application/vnd.databricks.v1+cell": {
     "cellMetadata": {},
     "inputWidgets": {},
     "nuid": "745fcdc2-4351-4107-b104-3b424fbd3d8c",
     "showTitle": false,
     "title": ""
    }
   },
   "source": [
    "<b> DATA DESCRIPTION:</b> CompanyX_EU.csv - Each row in the dataset is a Start-up company and the columns describe the company. ATTRIBUTE\n",
    "INFORMATION:"
   ]
  },
  {
   "cell_type": "markdown",
   "metadata": {
    "application/vnd.databricks.v1+cell": {
     "cellMetadata": {},
     "inputWidgets": {},
     "nuid": "7666dae6-b409-4293-9a30-f8ddc2ad8bd4",
     "showTitle": false,
     "title": ""
    }
   },
   "source": [
    "1. Startup: Name of the company\n",
    "2. Product: Actual product\n",
    "3. Funding: Funds raised by the company in USD\n",
    "4. Event: The event the company participated in\n",
    "5. Result: Described by Contestant, Finalist, Audience choice, Winner or Runner up\n",
    "6. OperatingState: Current status of the company, Operating ,Closed, Acquired or IPO\n",
    "<br>\n",
    "*Dataset has been downloaded from the internet. All the credit for the dataset goes to the original creator of the data."
   ]
  },
  {
   "cell_type": "markdown",
   "metadata": {
    "application/vnd.databricks.v1+cell": {
     "cellMetadata": {},
     "inputWidgets": {},
     "nuid": "10ec77aa-9620-430d-a36d-002d8f7bb0e8",
     "showTitle": false,
     "title": ""
    }
   },
   "source": [
    "<b> PROJECT OBJECTIVE: </b> Analyse the data of the various companies from the given dataset and perform the tasks that are specified in the\n",
    "below steps. Draw insights from the various attributes that are present in the dataset, plot distributions, state hypotheses and draw\n",
    "conclusions from the dataset."
   ]
  },
  {
   "cell_type": "markdown",
   "metadata": {
    "application/vnd.databricks.v1+cell": {
     "cellMetadata": {},
     "inputWidgets": {},
     "nuid": "30ea0d5e-bdca-4b6d-89ae-0bdc281ef6a6",
     "showTitle": false,
     "title": ""
    }
   },
   "source": [
    "<b> 1. Data warehouse:</b>\n",
    "• Read the CSV file."
   ]
  },
  {
   "cell_type": "code",
   "execution_count": 0,
   "metadata": {
    "application/vnd.databricks.v1+cell": {
     "cellMetadata": {},
     "inputWidgets": {},
     "nuid": "a1623081-20dc-4c34-8038-633bbfcbcbd4",
     "showTitle": false,
     "title": ""
    }
   },
   "outputs": [],
   "source": [
    "#import section\n",
    "import pandas as pd\n",
    "import matplotlib.pyplot as plt\n",
    "import seaborn as sns\n",
    "from scipy.stats import ttest_ind\n",
    "%matplotlib inline"
   ]
  },
  {
   "cell_type": "code",
   "execution_count": 0,
   "metadata": {
    "application/vnd.databricks.v1+cell": {
     "cellMetadata": {},
     "inputWidgets": {},
     "nuid": "389144b2-c66a-46dd-a104-cf08c75c75a2",
     "showTitle": false,
     "title": ""
    }
   },
   "outputs": [],
   "source": [
    "file_path = 'DS - Part3 - CompanyX_EU.csv' \n",
    "st_data = pd.read_csv(file_path) # read csv file into dataframe\n",
    "st_data.head() #check top columns"
   ]
  },
  {
   "cell_type": "markdown",
   "metadata": {
    "application/vnd.databricks.v1+cell": {
     "cellMetadata": {},
     "inputWidgets": {},
     "nuid": "e1b572cc-c632-4e39-be08-7e61d5b7e426",
     "showTitle": false,
     "title": ""
    }
   },
   "source": [
    "<b> 2. Data exploration: </b>\n",
    "<br>\n",
    "• Check the datatypes of each attribute.\n",
    "<br>\n",
    "• Check for null values in the attributes."
   ]
  },
  {
   "cell_type": "code",
   "execution_count": 0,
   "metadata": {
    "application/vnd.databricks.v1+cell": {
     "cellMetadata": {},
     "inputWidgets": {},
     "nuid": "98a55a4a-e704-4114-957c-54711787a983",
     "showTitle": false,
     "title": ""
    }
   },
   "outputs": [],
   "source": [
    "st_data.info()"
   ]
  },
  {
   "cell_type": "markdown",
   "metadata": {
    "application/vnd.databricks.v1+cell": {
     "cellMetadata": {},
     "inputWidgets": {},
     "nuid": "fada8ee9-ced6-40e7-93c7-486674228575",
     "showTitle": false,
     "title": ""
    }
   },
   "source": [
    "There are 662 rows and 6 columns. All columns are strings. Except Funding, rest are categorical variables. Funding is stored in string format."
   ]
  },
  {
   "cell_type": "code",
   "execution_count": 0,
   "metadata": {
    "application/vnd.databricks.v1+cell": {
     "cellMetadata": {},
     "inputWidgets": {},
     "nuid": "e93343df-5c6c-4e59-84ef-48e0906ab6b0",
     "showTitle": false,
     "title": ""
    }
   },
   "outputs": [],
   "source": [
    "st_data.isnull().sum()"
   ]
  },
  {
   "cell_type": "markdown",
   "metadata": {
    "application/vnd.databricks.v1+cell": {
     "cellMetadata": {},
     "inputWidgets": {},
     "nuid": "a27185a3-c326-40d1-a46f-9175d0e44625",
     "showTitle": false,
     "title": ""
    }
   },
   "source": [
    "There are 6 missing values in 'Product' and 214 missing values in 'Funding'"
   ]
  },
  {
   "cell_type": "markdown",
   "metadata": {
    "application/vnd.databricks.v1+cell": {
     "cellMetadata": {},
     "inputWidgets": {},
     "nuid": "1a113b91-b89b-47eb-a961-0b7b69090170",
     "showTitle": false,
     "title": ""
    }
   },
   "source": [
    "<b>3. Data preprocessing & visualisation:</b>\n",
    "<br>\n",
    "• Drop the null values.\n",
    "<br>\n",
    "• Convert the ‘Funding’ features to a numerical value.\n",
    "<br>\n",
    "• Plot box plot for funds in million.\n",
    "<br>\n",
    "• Get the lower fence from the box plot.\n",
    "<br>\n",
    "• Check number of outliers greater than upper fence.\n",
    "<br>\n",
    "• Drop the values that are greater than upper fence.\n",
    "<br>\n",
    "• Plot the box plot after dropping the values.\n",
    "<br>\n",
    "• Check frequency of the OperatingState features classes.\n",
    "<br>\n",
    "• Plot a distribution plot for Funds in million.\n",
    "<br>\n",
    "• Plot distribution plots for companies still operating and companies that closed.\n",
    "<br>"
   ]
  },
  {
   "cell_type": "code",
   "execution_count": 0,
   "metadata": {
    "application/vnd.databricks.v1+cell": {
     "cellMetadata": {},
     "inputWidgets": {},
     "nuid": "c63328c4-80cc-48a7-8861-b91829d23561",
     "showTitle": false,
     "title": ""
    }
   },
   "outputs": [],
   "source": [
    "p_st_data = st_data.copy() # take a copy of the raw dataset\n",
    "p_st_data.dropna(axis = 0, how='any',inplace=True)  # just following instructions here on handling null values "
   ]
  },
  {
   "cell_type": "code",
   "execution_count": 0,
   "metadata": {
    "application/vnd.databricks.v1+cell": {
     "cellMetadata": {},
     "inputWidgets": {},
     "nuid": "53cdbea4-7572-496e-b87c-c1eb9e47c13e",
     "showTitle": false,
     "title": ""
    }
   },
   "outputs": [],
   "source": [
    "p_st_data.info()"
   ]
  },
  {
   "cell_type": "code",
   "execution_count": 0,
   "metadata": {
    "application/vnd.databricks.v1+cell": {
     "cellMetadata": {},
     "inputWidgets": {},
     "nuid": "3c8e007e-1059-436e-8fe6-e4e5fa1513c5",
     "showTitle": false,
     "title": ""
    }
   },
   "outputs": [],
   "source": [
    "# 216 rows are removed and we currently have 446 entries"
   ]
  },
  {
   "cell_type": "markdown",
   "metadata": {
    "application/vnd.databricks.v1+cell": {
     "cellMetadata": {},
     "inputWidgets": {},
     "nuid": "0cfc63d7-dfcb-4cc4-b57f-2b40112144a6",
     "showTitle": false,
     "title": ""
    }
   },
   "source": [
    "##### Convert the ‘Funding’ feature to a numerical value."
   ]
  },
  {
   "cell_type": "code",
   "execution_count": 0,
   "metadata": {
    "application/vnd.databricks.v1+cell": {
     "cellMetadata": {},
     "inputWidgets": {},
     "nuid": "b8e17fc5-80af-49aa-840d-fa5603974593",
     "showTitle": false,
     "title": ""
    }
   },
   "outputs": [],
   "source": [
    "p_st_data['Funding'].unique() # check how formatting is there acrosss all rows"
   ]
  },
  {
   "cell_type": "code",
   "execution_count": 0,
   "metadata": {
    "application/vnd.databricks.v1+cell": {
     "cellMetadata": {},
     "inputWidgets": {},
     "nuid": "fceec384-f426-40fb-9b93-3dcae7ce60f1",
     "showTitle": false,
     "title": ""
    }
   },
   "outputs": [],
   "source": [
    "def string_to_float(x):\n",
    "    \"\"\"\n",
    "        Converts currency stored as string to float values\n",
    "        \n",
    "        Return:\n",
    "            returns float of input value\n",
    "    \"\"\"\n",
    "    # if x is numeric, return x.\n",
    "    if x.isnumeric(): # integer or float stored as a string\n",
    "        return float(x)\n",
    "    x= x.replace('$','') # remove $ sign\n",
    "    if 'K' in x:\n",
    "        return float(x.replace('K', '')) * (10**3) \n",
    "    if 'M' in x:\n",
    "        return float(x.replace('M', '')) * (10**6)\n",
    "    if 'B' in x:\n",
    "        return float(x.replace('B', '')) * (10**9)\n",
    "    return float(x)\n",
    "\n",
    "            \n",
    "p_st_data['Funding'] = p_st_data['Funding'].apply(string_to_float)"
   ]
  },
  {
   "cell_type": "markdown",
   "metadata": {
    "application/vnd.databricks.v1+cell": {
     "cellMetadata": {},
     "inputWidgets": {},
     "nuid": "2ddcfea0-2d71-416b-9b41-fe77f373a3e9",
     "showTitle": false,
     "title": ""
    }
   },
   "source": [
    "##### 3. Plot box plot for funds in million"
   ]
  },
  {
   "cell_type": "code",
   "execution_count": 0,
   "metadata": {
    "application/vnd.databricks.v1+cell": {
     "cellMetadata": {},
     "inputWidgets": {},
     "nuid": "3623c620-8aab-4932-88eb-ab43ae89c5fd",
     "showTitle": false,
     "title": ""
    }
   },
   "outputs": [],
   "source": [
    "ax= sns.boxplot(y=p_st_data['Funding']/(10**6))\n",
    "ax.set(ylim=(-1000,2000))\n",
    "ax.set(xlabel='Funding', ylabel='$ in million', title = 'Box plot - Funding in $M')"
   ]
  },
  {
   "cell_type": "markdown",
   "metadata": {
    "application/vnd.databricks.v1+cell": {
     "cellMetadata": {},
     "inputWidgets": {},
     "nuid": "41da8fd1-0dd4-40bd-844b-c3d14d1c8cf4",
     "showTitle": false,
     "title": ""
    }
   },
   "source": [
    "##### 4. Get the lower fence from the box plot."
   ]
  },
  {
   "cell_type": "markdown",
   "metadata": {
    "application/vnd.databricks.v1+cell": {
     "cellMetadata": {},
     "inputWidgets": {},
     "nuid": "efc7911b-6223-4bf5-9e64-f3f3e890a909",
     "showTitle": false,
     "title": ""
    }
   },
   "source": [
    "Lower fence is Q1 - 1.5 (IQR). Lower fence looks like a negative value closer to 0."
   ]
  },
  {
   "cell_type": "markdown",
   "metadata": {
    "application/vnd.databricks.v1+cell": {
     "cellMetadata": {},
     "inputWidgets": {},
     "nuid": "93c2600a-6066-4d63-b6d9-511599388ac9",
     "showTitle": false,
     "title": ""
    }
   },
   "source": [
    "##### 5. Check number of outliers greater than upper fence."
   ]
  },
  {
   "cell_type": "code",
   "execution_count": 0,
   "metadata": {
    "application/vnd.databricks.v1+cell": {
     "cellMetadata": {},
     "inputWidgets": {},
     "nuid": "205b9fe1-7fca-4263-ba15-5e3d499dce06",
     "showTitle": false,
     "title": ""
    }
   },
   "outputs": [],
   "source": [
    "upper_fence = p_st_data['Funding'].quantile(0.75) + 1.5*(p_st_data['Funding'].quantile(0.75)-p_st_data['Funding'].quantile(0.25))\n",
    "lower_fence = p_st_data['Funding'].quantile(0.25) - 1.5*(p_st_data['Funding'].quantile(0.75)-p_st_data['Funding'].quantile(0.25))"
   ]
  },
  {
   "cell_type": "code",
   "execution_count": 0,
   "metadata": {
    "application/vnd.databricks.v1+cell": {
     "cellMetadata": {},
     "inputWidgets": {},
     "nuid": "a094a816-3a5f-4b96-ad43-c08691666771",
     "showTitle": false,
     "title": ""
    }
   },
   "outputs": [],
   "source": [
    "(p_st_data['Funding']>upper_fence).sum()"
   ]
  },
  {
   "cell_type": "markdown",
   "metadata": {
    "application/vnd.databricks.v1+cell": {
     "cellMetadata": {},
     "inputWidgets": {},
     "nuid": "8b364c1c-cb8a-49d5-8ef6-1094d503a925",
     "showTitle": false,
     "title": ""
    }
   },
   "source": [
    "#####  60 values greater than upper_fence"
   ]
  },
  {
   "cell_type": "markdown",
   "metadata": {
    "application/vnd.databricks.v1+cell": {
     "cellMetadata": {},
     "inputWidgets": {},
     "nuid": "51ffc9fd-0183-4c52-b104-f4e5d7da6a7c",
     "showTitle": false,
     "title": ""
    }
   },
   "source": [
    "##### 6. Drop the values that are greater than upper fence."
   ]
  },
  {
   "cell_type": "code",
   "execution_count": 0,
   "metadata": {
    "application/vnd.databricks.v1+cell": {
     "cellMetadata": {},
     "inputWidgets": {},
     "nuid": "eef964a2-f4a4-41a0-8df7-f2f5bab4d69b",
     "showTitle": false,
     "title": ""
    }
   },
   "outputs": [],
   "source": [
    "p_temp_funding = p_st_data['Funding'] # moving it to a temporary variable before dropping upper fence\n",
    "p_temp_funding = p_temp_funding[p_temp_funding <= upper_fence] "
   ]
  },
  {
   "cell_type": "markdown",
   "metadata": {
    "application/vnd.databricks.v1+cell": {
     "cellMetadata": {},
     "inputWidgets": {},
     "nuid": "74112ac9-7312-4e41-a114-6fbfae67a216",
     "showTitle": false,
     "title": ""
    }
   },
   "source": [
    "##### 7.Plot the box plot after dropping the values."
   ]
  },
  {
   "cell_type": "code",
   "execution_count": 0,
   "metadata": {
    "application/vnd.databricks.v1+cell": {
     "cellMetadata": {},
     "inputWidgets": {},
     "nuid": "2775d850-83cc-4265-a361-a1e90fcefd99",
     "showTitle": false,
     "title": ""
    }
   },
   "outputs": [],
   "source": [
    "ax= sns.boxplot(y=p_temp_funding/(10**6))\n",
    "ax.set(xlabel='Funding', ylabel='$ in million',title='Box plot - Funding in $M')"
   ]
  },
  {
   "cell_type": "markdown",
   "metadata": {
    "application/vnd.databricks.v1+cell": {
     "cellMetadata": {},
     "inputWidgets": {},
     "nuid": "060fd3b2-29b7-470f-82ee-f404aaf16d44",
     "showTitle": false,
     "title": ""
    }
   },
   "source": [
    "##### 8. Check frequency of the OperatingState features classes."
   ]
  },
  {
   "cell_type": "code",
   "execution_count": 0,
   "metadata": {
    "application/vnd.databricks.v1+cell": {
     "cellMetadata": {},
     "inputWidgets": {},
     "nuid": "0b723134-56f1-4f9b-a5c6-9b249b1fc5ab",
     "showTitle": false,
     "title": ""
    }
   },
   "outputs": [],
   "source": [
    "p_st_data.groupby(['OperatingState']).size() # Note: I haven't dropped values > upper_fence in this dataset. Hence dataset still has 446 rows"
   ]
  },
  {
   "cell_type": "markdown",
   "metadata": {
    "application/vnd.databricks.v1+cell": {
     "cellMetadata": {},
     "inputWidgets": {},
     "nuid": "bba53cc9-11ae-4693-8b8b-fb4cd6898138",
     "showTitle": false,
     "title": ""
    }
   },
   "source": [
    "##### 9. Plot a distribution plot for Funds in million."
   ]
  },
  {
   "cell_type": "code",
   "execution_count": 0,
   "metadata": {
    "application/vnd.databricks.v1+cell": {
     "cellMetadata": {},
     "inputWidgets": {},
     "nuid": "4e4a4794-7f47-4090-9326-74497c212802",
     "showTitle": false,
     "title": ""
    }
   },
   "outputs": [],
   "source": [
    "ax = sns.distplot(p_st_data['Funding']/(10**6),kde = True, rug = False)\n",
    "ax.set(xlabel='Funding in million $')"
   ]
  },
  {
   "cell_type": "code",
   "execution_count": 0,
   "metadata": {
    "application/vnd.databricks.v1+cell": {
     "cellMetadata": {},
     "inputWidgets": {},
     "nuid": "537a8c4c-b64d-44a1-8a74-0706b458f57f",
     "showTitle": false,
     "title": ""
    }
   },
   "outputs": [],
   "source": [
    "ax = sns.distplot(p_temp_funding/(10**6),kde = True, rug = False) # Distplot after discarding values greater than upper fence\n",
    "ax.set(xlabel='Funding in million $')"
   ]
  },
  {
   "cell_type": "markdown",
   "metadata": {
    "application/vnd.databricks.v1+cell": {
     "cellMetadata": {},
     "inputWidgets": {},
     "nuid": "1c25b775-53f4-4ac5-87b5-5dea3a02a0d5",
     "showTitle": false,
     "title": ""
    }
   },
   "source": [
    "##### 10. Plot distribution plots for companies still operating and companies that closed."
   ]
  },
  {
   "cell_type": "code",
   "execution_count": 0,
   "metadata": {
    "application/vnd.databricks.v1+cell": {
     "cellMetadata": {},
     "inputWidgets": {},
     "nuid": "a626797d-9e89-4837-87c8-b1e492cba139",
     "showTitle": false,
     "title": ""
    }
   },
   "outputs": [],
   "source": [
    "ax = sns.countplot(p_st_data['OperatingState']) "
   ]
  },
  {
   "cell_type": "markdown",
   "metadata": {
    "application/vnd.databricks.v1+cell": {
     "cellMetadata": {},
     "inputWidgets": {},
     "nuid": "3209c2aa-9486-4011-954c-a77db2aef8de",
     "showTitle": false,
     "title": ""
    }
   },
   "source": [
    "To see the distribution of funding for closed companies vs operating companies,\n",
    "assuming operating companies include 'Operating' or 'Acquired' or 'ipo'"
   ]
  },
  {
   "cell_type": "code",
   "execution_count": 0,
   "metadata": {
    "application/vnd.databricks.v1+cell": {
     "cellMetadata": {},
     "inputWidgets": {},
     "nuid": "0da52030-8f17-4861-86b4-5f89d0dd2516",
     "showTitle": false,
     "title": ""
    }
   },
   "outputs": [],
   "source": [
    "# if we want to see the distribution of funding for closed companies vs operating companies, then,\n",
    "plt.figure(figsize=[10,7])\n",
    "plt.subplot(1, 2, 1)\n",
    "ax1 = sns.distplot(p_st_data[p_st_data['OperatingState']=='Closed']['Funding']/(10**6),kde = True, rug = False)\n",
    "ax1.set(xlabel='Funding for closed companies (in $M)')\n",
    "plt.subplot(1, 2, 2)\n",
    "ax2 = sns.distplot(p_st_data[p_st_data['OperatingState']!='Closed']['Funding']/(10**6),kde = True, rug = False)\n",
    "ax2.set(xlabel='Funding for operating companies (in $M)')\n",
    "plt.tight_layout(h_pad=100)\n"
   ]
  },
  {
   "cell_type": "code",
   "execution_count": 0,
   "metadata": {
    "application/vnd.databricks.v1+cell": {
     "cellMetadata": {},
     "inputWidgets": {},
     "nuid": "32f60fbb-ca7a-4606-8fb5-9360470f083a",
     "showTitle": false,
     "title": ""
    }
   },
   "outputs": [],
   "source": [
    "# if we drop the values > Upper fence in the dataset and then look at the distribution\n",
    "p_st_data=p_st_data[p_st_data['Funding']<=upper_fence]\n",
    "p_st_data.shape"
   ]
  },
  {
   "cell_type": "code",
   "execution_count": 0,
   "metadata": {
    "application/vnd.databricks.v1+cell": {
     "cellMetadata": {},
     "inputWidgets": {},
     "nuid": "4996decc-3dbb-4568-88d2-0d2278bde7bc",
     "showTitle": false,
     "title": ""
    }
   },
   "outputs": [],
   "source": [
    "plt.figure(figsize=[10,7])\n",
    "plt.subplot(1, 2, 1)\n",
    "ax1 = sns.distplot(p_st_data[p_st_data['OperatingState']=='Closed']['Funding']/(10**6),kde = True, rug = False)\n",
    "ax1.set(xlabel='Funding for closed companies (in $M)')\n",
    "plt.subplot(1, 2, 2)\n",
    "ax2 = sns.distplot(p_st_data[p_st_data['OperatingState']!='Closed']['Funding']/(10**6),kde = True, rug = False)\n",
    "ax2.set(xlabel='Funding for operating companies (in $M)')\n",
    "plt.tight_layout(h_pad=100)"
   ]
  },
  {
   "cell_type": "code",
   "execution_count": 0,
   "metadata": {
    "application/vnd.databricks.v1+cell": {
     "cellMetadata": {},
     "inputWidgets": {},
     "nuid": "6b97cd8e-f57b-435f-8c66-5821b90a030d",
     "showTitle": false,
     "title": ""
    }
   },
   "outputs": [],
   "source": [
    "p_st_data.groupby(['OperatingState']).size() # size after we drop funding values > Upper fence"
   ]
  },
  {
   "cell_type": "markdown",
   "metadata": {
    "application/vnd.databricks.v1+cell": {
     "cellMetadata": {},
     "inputWidgets": {},
     "nuid": "0006e2be-0d6d-40ab-b7a9-31b872ce39b7",
     "showTitle": false,
     "title": ""
    }
   },
   "source": [
    " #### 4. Statistical analysis:"
   ]
  },
  {
   "cell_type": "markdown",
   "metadata": {
    "application/vnd.databricks.v1+cell": {
     "cellMetadata": {},
     "inputWidgets": {},
     "nuid": "e5e39d23-4986-4b46-a30d-e51565c57f8a",
     "showTitle": false,
     "title": ""
    }
   },
   "source": [
    "• Is there any significant difference between Funds raised by companies that are still operating vs companies that closed down?\n",
    "Write the null hypothesis and alternative hypothesis.\n",
    "Test for significance and conclusion"
   ]
  },
  {
   "cell_type": "markdown",
   "metadata": {
    "application/vnd.databricks.v1+cell": {
     "cellMetadata": {},
     "inputWidgets": {},
     "nuid": "eb328e68-bbde-4509-a0d9-32a80512a291",
     "showTitle": false,
     "title": ""
    }
   },
   "source": [
    "Assuming Operating companies as the ones 'Operating' or ' Acquired' or 'ipo , \n",
    "<br>\n",
    "H0: There is no difference between means of funds raised by companies that are still operating vs. companies that closed down\n",
    "<br>\n",
    "HA: There is difference between the means of these 2 groups\n",
    "<br>\n",
    "Considering alpha at 0.05, we can apply 2 sample t-test"
   ]
  },
  {
   "cell_type": "code",
   "execution_count": 0,
   "metadata": {
    "application/vnd.databricks.v1+cell": {
     "cellMetadata": {},
     "inputWidgets": {},
     "nuid": "53d5afe9-ba15-420b-98fe-b380ea8c43cf",
     "showTitle": false,
     "title": ""
    }
   },
   "outputs": [],
   "source": [
    "group_closed = p_st_data[['Funding','OperatingState']][p_st_data['OperatingState']=='Closed']['Funding']\n",
    "group_operating = p_st_data[['Funding','OperatingState']][p_st_data['OperatingState']!='Closed']['Funding']"
   ]
  },
  {
   "cell_type": "code",
   "execution_count": 0,
   "metadata": {
    "application/vnd.databricks.v1+cell": {
     "cellMetadata": {},
     "inputWidgets": {},
     "nuid": "665dc8f9-d1e3-4909-93f8-e19d7b1d2f1a",
     "showTitle": false,
     "title": ""
    }
   },
   "outputs": [],
   "source": [
    "t_statistic, p_value = ttest_ind(group_closed, group_operating)\n",
    "print(t_statistic, p_value)"
   ]
  },
  {
   "cell_type": "markdown",
   "metadata": {
    "application/vnd.databricks.v1+cell": {
     "cellMetadata": {},
     "inputWidgets": {},
     "nuid": "03e429a7-7bf9-4aae-989f-939c9f38d52b",
     "showTitle": false,
     "title": ""
    }
   },
   "source": [
    "p_value is > 0.05 which is higher than the alpha we considered. Hence, we fail to reject the null hypothesis"
   ]
  },
  {
   "cell_type": "markdown",
   "metadata": {
    "application/vnd.databricks.v1+cell": {
     "cellMetadata": {},
     "inputWidgets": {},
     "nuid": "9bfab2c8-3577-4187-842b-077b3419af66",
     "showTitle": false,
     "title": ""
    }
   },
   "source": [
    "##### • Make a copy of the original data frame.\n",
    "##### • Check frequency distribution of Result variable."
   ]
  },
  {
   "cell_type": "code",
   "execution_count": 0,
   "metadata": {
    "application/vnd.databricks.v1+cell": {
     "cellMetadata": {},
     "inputWidgets": {},
     "nuid": "4c1d505a-cb78-4964-9872-bae24aa8d2b5",
     "showTitle": false,
     "title": ""
    }
   },
   "outputs": [],
   "source": [
    "p2_st_data = st_data.copy()\n",
    "p2_st_data.info()"
   ]
  },
  {
   "cell_type": "code",
   "execution_count": 0,
   "metadata": {
    "application/vnd.databricks.v1+cell": {
     "cellMetadata": {},
     "inputWidgets": {},
     "nuid": "446ec442-7a21-401f-8e07-0a42e09170c3",
     "showTitle": false,
     "title": ""
    }
   },
   "outputs": [],
   "source": [
    "p2_st_data['Result'].unique()"
   ]
  },
  {
   "cell_type": "code",
   "execution_count": 0,
   "metadata": {
    "application/vnd.databricks.v1+cell": {
     "cellMetadata": {},
     "inputWidgets": {},
     "nuid": "04819b72-2246-4c92-ba2c-3c62a5b5348e",
     "showTitle": false,
     "title": ""
    }
   },
   "outputs": [],
   "source": [
    "p2_st_data.groupby(['Result']).size() # gives frequency of each categories"
   ]
  },
  {
   "cell_type": "markdown",
   "metadata": {
    "application/vnd.databricks.v1+cell": {
     "cellMetadata": {},
     "inputWidgets": {},
     "nuid": "0d3de47b-473e-4739-b421-8b6631bd3b72",
     "showTitle": false,
     "title": ""
    }
   },
   "source": [
    "##### Calculate percentage of winners that are still operating and percentage of contestants that are still operating"
   ]
  },
  {
   "cell_type": "code",
   "execution_count": 0,
   "metadata": {
    "application/vnd.databricks.v1+cell": {
     "cellMetadata": {},
     "inputWidgets": {},
     "nuid": "d4a7258c-ba22-4ea4-94e3-c783baeef16d",
     "showTitle": false,
     "title": ""
    }
   },
   "outputs": [],
   "source": [
    "#Assuming 'operating' as not 'closed' and hence equals 'Operating' + 'Acquired' + 'Ipo'\n",
    "winners = (p2_st_data['Result'] == 'Winner') # Series contains True or False for Winners\n",
    "contestant = (p2_st_data['Result'] == 'Contestant') # Series contains True or False for contestant"
   ]
  },
  {
   "cell_type": "code",
   "execution_count": 0,
   "metadata": {
    "application/vnd.databricks.v1+cell": {
     "cellMetadata": {},
     "inputWidgets": {},
     "nuid": "7491cdaa-c1c6-45c2-9703-675e237d44e7",
     "showTitle": false,
     "title": ""
    }
   },
   "outputs": [],
   "source": [
    "op_winners = p2_st_data['OperatingState'][winners] # extracts winners from Series 'OperatingState'\n",
    "p_winners_op = sum(op_winners!='Closed')/len(op_winners)\n",
    "p_winners_op"
   ]
  },
  {
   "cell_type": "markdown",
   "metadata": {
    "application/vnd.databricks.v1+cell": {
     "cellMetadata": {},
     "inputWidgets": {},
     "nuid": "46d87b70-e322-48a7-843a-4ab0f2d662c2",
     "showTitle": false,
     "title": ""
    }
   },
   "source": [
    "100% of winners are still operating"
   ]
  },
  {
   "cell_type": "code",
   "execution_count": 0,
   "metadata": {
    "application/vnd.databricks.v1+cell": {
     "cellMetadata": {},
     "inputWidgets": {},
     "nuid": "e91580e6-d3b9-489d-b106-d30d62e20535",
     "showTitle": false,
     "title": ""
    }
   },
   "outputs": [],
   "source": [
    "op_contestants = p2_st_data['OperatingState'][contestant]"
   ]
  },
  {
   "cell_type": "code",
   "execution_count": 0,
   "metadata": {
    "application/vnd.databricks.v1+cell": {
     "cellMetadata": {},
     "inputWidgets": {},
     "nuid": "1e048597-b3a5-4a8e-a9ed-d53e9066d460",
     "showTitle": false,
     "title": ""
    }
   },
   "outputs": [],
   "source": [
    "p_contestants_op = sum(op_contestants !='Closed')/len(op_contestants)\n",
    "p_contestants_op"
   ]
  },
  {
   "cell_type": "markdown",
   "metadata": {
    "application/vnd.databricks.v1+cell": {
     "cellMetadata": {},
     "inputWidgets": {},
     "nuid": "83872118-b392-4bb0-81df-551e0847f299",
     "showTitle": false,
     "title": ""
    }
   },
   "source": [
    "##### 100% of winners are still operating, while 81.6% of contestants are still operating"
   ]
  },
  {
   "cell_type": "code",
   "execution_count": 0,
   "metadata": {
    "application/vnd.databricks.v1+cell": {
     "cellMetadata": {},
     "inputWidgets": {},
     "nuid": "a125dee2-3e60-435b-9616-013775678980",
     "showTitle": false,
     "title": ""
    }
   },
   "outputs": [],
   "source": [
    "# check using crosstabs\n",
    "row = p2_st_data['OperatingState']\n",
    "column = p2_st_data['Result']\n",
    "pd.crosstab(row,column) # winners - 0% closed. contestant = 100% - (90/488) = 81.6%\n"
   ]
  },
  {
   "cell_type": "markdown",
   "metadata": {
    "application/vnd.databricks.v1+cell": {
     "cellMetadata": {},
     "inputWidgets": {},
     "nuid": "df30f8d9-2456-471a-8018-98e3654a8087",
     "showTitle": false,
     "title": ""
    }
   },
   "source": [
    "##### Write your hypothesis comparing the proportion of companies that are operating between winners and contestants:Write the null hypothesis and alternative hypothesis. Test for significance and conclusion"
   ]
  },
  {
   "cell_type": "markdown",
   "metadata": {
    "application/vnd.databricks.v1+cell": {
     "cellMetadata": {},
     "inputWidgets": {},
     "nuid": "78f77aab-963a-41de-81f5-85cc3967baf8",
     "showTitle": false,
     "title": ""
    }
   },
   "source": [
    "(Null hypothesis) H0: Proportions of the 2 groups are equal \n",
    "<br>\n",
    "(Alternate hypothesis) Ha: Proportions of the 2 groups are not equal\n",
    "<br>\n",
    "Taking Alpha at 0.05, we can conduct z test for proportions"
   ]
  },
  {
   "cell_type": "code",
   "execution_count": 0,
   "metadata": {
    "application/vnd.databricks.v1+cell": {
     "cellMetadata": {},
     "inputWidgets": {},
     "nuid": "df828e07-adf7-4c3a-bfa8-fba7336644b0",
     "showTitle": false,
     "title": ""
    }
   },
   "outputs": [],
   "source": [
    "from statsmodels.stats.proportion import proportions_ztest\n",
    "n_op_winners = sum(op_winners!='Closed')\n",
    "n_op_cont = sum(op_contestants !='Closed')\n",
    "stat, pval = proportions_ztest([n_op_winners,n_op_cont],[len(op_winners), len(op_contestants)],alternative = 'two-sided')\n",
    "stat, pval"
   ]
  },
  {
   "cell_type": "markdown",
   "metadata": {
    "application/vnd.databricks.v1+cell": {
     "cellMetadata": {},
     "inputWidgets": {},
     "nuid": "56870eba-ea72-41d4-8076-30f22481b1c6",
     "showTitle": false,
     "title": ""
    }
   },
   "source": [
    "since p < 0.05, we reject the null hypothesis for alpha = 0.05."
   ]
  },
  {
   "cell_type": "markdown",
   "metadata": {
    "application/vnd.databricks.v1+cell": {
     "cellMetadata": {},
     "inputWidgets": {},
     "nuid": "2762af4f-80e9-4654-b9d9-1e0c3bd82411",
     "showTitle": false,
     "title": ""
    }
   },
   "source": [
    "##### Check distribution of the Event variable."
   ]
  },
  {
   "cell_type": "code",
   "execution_count": 0,
   "metadata": {
    "application/vnd.databricks.v1+cell": {
     "cellMetadata": {},
     "inputWidgets": {},
     "nuid": "7a63790c-6ece-4b26-94de-9d43a8a7e0fc",
     "showTitle": false,
     "title": ""
    }
   },
   "outputs": [],
   "source": [
    "p2_st_data.groupby(['Event']).size() # gives frequency of each categories"
   ]
  },
  {
   "cell_type": "markdown",
   "metadata": {
    "application/vnd.databricks.v1+cell": {
     "cellMetadata": {},
     "inputWidgets": {},
     "nuid": "4cc41c39-2b7d-4cbb-b310-ee6e46054784",
     "showTitle": false,
     "title": ""
    }
   },
   "source": [
    "#####  Select only the Event that has disrupt keyword from 2013 onwards."
   ]
  },
  {
   "cell_type": "code",
   "execution_count": 0,
   "metadata": {
    "application/vnd.databricks.v1+cell": {
     "cellMetadata": {},
     "inputWidgets": {},
     "nuid": "5bd90542-9677-4ce9-af88-774cffd33e87",
     "showTitle": false,
     "title": ""
    }
   },
   "outputs": [],
   "source": [
    "# last four characters reflect year. \n",
    "def filter_event(x):\n",
    "    \"\"\"\n",
    "        Checks if input string has \"disrupt\" keyword \n",
    "        Checks if the event is held from 2013\n",
    "        \n",
    "        Return:\n",
    "        returns True if the above conditions are satisfied\n",
    "        returns False, otherwise\n",
    "    \"\"\"\n",
    "    boolean_value = 0\n",
    "    year = 0\n",
    "    \n",
    "    x = x.lower() # converts x to lower case , so we get both \"Disrupt\" and \"disrupt\"\n",
    "    to_find = 'disrupt'\n",
    "    \n",
    "    substr = x.find(to_find) # if substr >0, then substr present\n",
    "        \n",
    "    if len(x)>3 and x[-4:].isdecimal(): # check if its a whole number\n",
    "        year = int(x[-4:])\n",
    "    \n",
    "    if substr >=0 and year >= 2013: # if disrupt present and year is from 2013\n",
    "        boolean_value = True\n",
    "    else:\n",
    "        boolean_value = False\n",
    "      \n",
    "    return boolean_value\n",
    "\n",
    "p2_st_data = p2_st_data[p2_st_data['Event'].apply(filter_event)]"
   ]
  },
  {
   "cell_type": "code",
   "execution_count": 0,
   "metadata": {
    "application/vnd.databricks.v1+cell": {
     "cellMetadata": {},
     "inputWidgets": {},
     "nuid": "465b2d41-3ca6-4387-a38e-ef4392200554",
     "showTitle": false,
     "title": ""
    }
   },
   "outputs": [],
   "source": [
    "p2_st_data.groupby('Event').size()"
   ]
  },
  {
   "cell_type": "markdown",
   "metadata": {
    "application/vnd.databricks.v1+cell": {
     "cellMetadata": {},
     "inputWidgets": {},
     "nuid": "a03f7bd7-c991-4562-bfd0-d817868b5aa3",
     "showTitle": false,
     "title": ""
    }
   },
   "source": [
    "##### Write and perform your hypothesis along with significance test comparing the funds raised by companies across NY, SF and EU events from 2013 onwards"
   ]
  },
  {
   "cell_type": "markdown",
   "metadata": {
    "application/vnd.databricks.v1+cell": {
     "cellMetadata": {},
     "inputWidgets": {},
     "nuid": "589d1b3f-4387-465f-b4cc-46d46a3378e8",
     "showTitle": false,
     "title": ""
    }
   },
   "source": [
    "(Null hypothesis) H0: Means of Funds raised by companies across different locations are same\n",
    "<br>\n",
    "(Alternate hypothesis) Ha: Means of Funds raised by companies is different atleast in one of the location\n",
    "\n",
    "at alpha = 0.05\n"
   ]
  },
  {
   "cell_type": "markdown",
   "metadata": {
    "application/vnd.databricks.v1+cell": {
     "cellMetadata": {},
     "inputWidgets": {},
     "nuid": "b8559a66-711b-4b6f-8dd2-f68bd203e18a",
     "showTitle": false,
     "title": ""
    }
   },
   "source": [
    "We use ANOVA to check this.\n",
    "<br>\n",
    "Assumptions of ANOVA\n",
    "<br>\n",
    "1) All populations involved follow a normal distribution\n",
    "<br>\n",
    "2) All populations have the same variance\n",
    "<br>\n",
    "3) The samples are randomly selected and independent of one another"
   ]
  },
  {
   "cell_type": "code",
   "execution_count": 0,
   "metadata": {
    "application/vnd.databricks.v1+cell": {
     "cellMetadata": {},
     "inputWidgets": {},
     "nuid": "2329e943-832b-47fa-86e9-411879f89987",
     "showTitle": false,
     "title": ""
    }
   },
   "outputs": [],
   "source": [
    "# Assuming NYC as New York City and NY as New York - So group NY has all events conducted in \"NY\" or \"NYC\"\n",
    "# Since London was part of EU till 2016, assuming EU group has 'EU' or 'London'\n",
    "\n",
    "#Group SF\n",
    "# Disrupt SF 2013        \n",
    "# Disrupt SF 2014        \n",
    "# Disrupt SF 2015        \n",
    "# Disrupt SF 2016        \n",
    "\n",
    "#Group NY\n",
    "# Disrupt NYC 2013       \n",
    "# Disrupt NYC 2014              \n",
    "# Disrupt NY 2015        \n",
    "# Disrupt NY 2016        \n",
    "\n",
    "#Group EU\n",
    "# Disrupt EU 2013        \n",
    "# Disrupt EU 2014        \n",
    "# Disrupt London 2015    \n",
    "# Disrupt London 2016"
   ]
  },
  {
   "cell_type": "code",
   "execution_count": 0,
   "metadata": {
    "application/vnd.databricks.v1+cell": {
     "cellMetadata": {},
     "inputWidgets": {},
     "nuid": "af0b7592-c2c3-4a49-b0a1-c338a41449e3",
     "showTitle": false,
     "title": ""
    }
   },
   "outputs": [],
   "source": [
    "def find_group(x):\n",
    "    \"\"\"\n",
    "        Input string is an event. This function classifies them into 'SF', 'NY', 'EU'. 'Other'\n",
    "        \n",
    "        Return:\n",
    "        returns one of the 4 groups\n",
    "    \"\"\"\n",
    "    if x.find(' SF ')>=0 :\n",
    "        return 'SF'\n",
    "    elif x.find(' NY ')>=0 or x.find(' NYC ')>=0:\n",
    "        return 'NY'\n",
    "    elif x.find(' EU ')>=0 or x.find('London')>=0:\n",
    "        return 'EU'\n",
    "    else:\n",
    "        return 'Other'\n",
    "\n",
    "    \n",
    "p2_st_data['Group']=p2_st_data['Event'].apply(find_group)\n",
    "p2_st_data[['Event','Group']].groupby(['Event','Group']).size()"
   ]
  },
  {
   "cell_type": "code",
   "execution_count": 0,
   "metadata": {
    "application/vnd.databricks.v1+cell": {
     "cellMetadata": {},
     "inputWidgets": {},
     "nuid": "1f7a2f12-ee6f-4dec-a5a3-98f8d313180c",
     "showTitle": false,
     "title": ""
    }
   },
   "outputs": [],
   "source": [
    "p_anova_data = p2_st_data[['Group','Funding']].copy()"
   ]
  },
  {
   "cell_type": "code",
   "execution_count": 0,
   "metadata": {
    "application/vnd.databricks.v1+cell": {
     "cellMetadata": {},
     "inputWidgets": {},
     "nuid": "94b17fd8-d048-4343-ba81-5b7fd248f6db",
     "showTitle": false,
     "title": ""
    }
   },
   "outputs": [],
   "source": [
    "p_anova_data[p_anova_data['Funding'].isnull()].groupby('Group').size() # Null values for funding across the 3 groups"
   ]
  },
  {
   "cell_type": "code",
   "execution_count": 0,
   "metadata": {
    "application/vnd.databricks.v1+cell": {
     "cellMetadata": {},
     "inputWidgets": {},
     "nuid": "66f8737e-68c4-4930-837c-e2cfa1b2dda3",
     "showTitle": false,
     "title": ""
    }
   },
   "outputs": [],
   "source": [
    "p_anova_data.dropna(axis = 0, how='any',inplace = True) # drop rows that has null values for 'Funding'"
   ]
  },
  {
   "cell_type": "code",
   "execution_count": 0,
   "metadata": {
    "application/vnd.databricks.v1+cell": {
     "cellMetadata": {},
     "inputWidgets": {},
     "nuid": "c6a48e94-5ca1-4de2-b2ec-97e687424461",
     "showTitle": false,
     "title": ""
    }
   },
   "outputs": [],
   "source": [
    "p_anova_data['Funding'] = p_anova_data['Funding'].apply(string_to_float) #convert funding to numeric using previous function"
   ]
  },
  {
   "cell_type": "code",
   "execution_count": 0,
   "metadata": {
    "application/vnd.databricks.v1+cell": {
     "cellMetadata": {},
     "inputWidgets": {},
     "nuid": "3b2cb9f6-3b0f-48b3-beac-bef4997ce8d9",
     "showTitle": false,
     "title": ""
    }
   },
   "outputs": [],
   "source": [
    "p_anova_data.info() # 194 rows. "
   ]
  },
  {
   "cell_type": "code",
   "execution_count": 0,
   "metadata": {
    "application/vnd.databricks.v1+cell": {
     "cellMetadata": {},
     "inputWidgets": {},
     "nuid": "7b4d8e86-4917-489f-ab8c-715345527c17",
     "showTitle": false,
     "title": ""
    }
   },
   "outputs": [],
   "source": [
    "sns.boxplot(x = p_anova_data[\"Group\"], y = p_anova_data[\"Funding\"]/(10**6))\n",
    "plt.title('Funding across regions')\n",
    "plt.show()"
   ]
  },
  {
   "cell_type": "markdown",
   "metadata": {
    "application/vnd.databricks.v1+cell": {
     "cellMetadata": {},
     "inputWidgets": {},
     "nuid": "b038bb67-6a34-46e5-8a11-842ed45d12b2",
     "showTitle": false,
     "title": ""
    }
   },
   "source": [
    "(Null hypothesis) H0: Means of Funds raised by companies across different locations are same\n",
    "<br>\n",
    "(Alternate hypothesis) Ha: Means of Funds raised by companies is different atleast in one of the location\n",
    "\n",
    "considering alpha = 0.05,"
   ]
  },
  {
   "cell_type": "code",
   "execution_count": 0,
   "metadata": {
    "application/vnd.databricks.v1+cell": {
     "cellMetadata": {},
     "inputWidgets": {},
     "nuid": "2e6eb170-4c78-4148-b998-8c4b09494568",
     "showTitle": false,
     "title": ""
    }
   },
   "outputs": [],
   "source": [
    "import statsmodels.api as sm\n",
    "from   statsmodels.formula.api import ols\n",
    " \n",
    "mod = ols('Funding ~ Group', data = p_anova_data).fit()\n",
    "aov_table = sm.stats.anova_lm(mod, typ=2)\n",
    "print(aov_table)"
   ]
  },
  {
   "cell_type": "markdown",
   "metadata": {
    "application/vnd.databricks.v1+cell": {
     "cellMetadata": {},
     "inputWidgets": {},
     "nuid": "54bece84-65c0-44c9-ba3a-5cde552a03b3",
     "showTitle": false,
     "title": ""
    }
   },
   "source": [
    "p value is greater than 0.05. so we fail to reject the null hypothesis at 5% significance level."
   ]
  },
  {
   "cell_type": "markdown",
   "metadata": {
    "application/vnd.databricks.v1+cell": {
     "cellMetadata": {},
     "inputWidgets": {},
     "nuid": "255d9a96-ff46-4df8-bffa-bd8c4d17a609",
     "showTitle": false,
     "title": ""
    }
   },
   "source": [
    "Box plot showed 1 big outlier for 'NY'. Lets remove that and check again"
   ]
  },
  {
   "cell_type": "code",
   "execution_count": 0,
   "metadata": {
    "application/vnd.databricks.v1+cell": {
     "cellMetadata": {},
     "inputWidgets": {},
     "nuid": "8895c942-b40e-4e36-891c-e0418ef1e1b9",
     "showTitle": false,
     "title": ""
    }
   },
   "outputs": [],
   "source": [
    "p_anova_data[p_anova_data['Funding']>500*((10**6))]"
   ]
  },
  {
   "cell_type": "code",
   "execution_count": 0,
   "metadata": {
    "application/vnd.databricks.v1+cell": {
     "cellMetadata": {},
     "inputWidgets": {},
     "nuid": "0e28d7ac-248b-45b4-8819-241c8f7ba0f6",
     "showTitle": false,
     "title": ""
    }
   },
   "outputs": [],
   "source": [
    "p_anova_data.drop(656,inplace=True) # drop the big outlier"
   ]
  },
  {
   "cell_type": "code",
   "execution_count": 0,
   "metadata": {
    "application/vnd.databricks.v1+cell": {
     "cellMetadata": {},
     "inputWidgets": {},
     "nuid": "51760a80-c26d-4314-b74d-86942dd22971",
     "showTitle": false,
     "title": ""
    }
   },
   "outputs": [],
   "source": [
    "sns.boxplot(x = p_anova_data[\"Group\"], y = p_anova_data[\"Funding\"]/(10**6))\n",
    "plt.title('Funding across regions')\n",
    "plt.show()"
   ]
  },
  {
   "cell_type": "code",
   "execution_count": 0,
   "metadata": {
    "application/vnd.databricks.v1+cell": {
     "cellMetadata": {},
     "inputWidgets": {},
     "nuid": "f348deb5-999b-4658-8d74-281136bcc42d",
     "showTitle": false,
     "title": ""
    }
   },
   "outputs": [],
   "source": [
    "mod = ols('Funding ~ Group', data = p_anova_data).fit()\n",
    "aov_table = sm.stats.anova_lm(mod, typ=2)\n",
    "print(aov_table)"
   ]
  },
  {
   "cell_type": "markdown",
   "metadata": {
    "application/vnd.databricks.v1+cell": {
     "cellMetadata": {},
     "inputWidgets": {},
     "nuid": "458aff3c-b317-45b4-bca0-df1bb38e12ad",
     "showTitle": false,
     "title": ""
    }
   },
   "source": [
    "Again, p value is greater than 0.05. so we fail to reject the null hypothesis at 5% significance level."
   ]
  },
  {
   "cell_type": "markdown",
   "metadata": {
    "application/vnd.databricks.v1+cell": {
     "cellMetadata": {},
     "inputWidgets": {},
     "nuid": "b4e2eb33-1b40-4e6f-ba25-c157759fca9e",
     "showTitle": false,
     "title": ""
    }
   },
   "source": [
    "##### Plot the distribution plot comparing the 3 city events."
   ]
  },
  {
   "cell_type": "code",
   "execution_count": 0,
   "metadata": {
    "application/vnd.databricks.v1+cell": {
     "cellMetadata": {},
     "inputWidgets": {},
     "nuid": "2f44c859-db0e-4d9d-900d-80b71d7ae64f",
     "showTitle": false,
     "title": ""
    }
   },
   "outputs": [],
   "source": [
    "# assuming the question is about Funding distribution for the 3 groups.\n",
    "\n",
    "plt.figure(figsize=[15,7])\n",
    "plt.subplot(1, 3, 1)\n",
    "ax1 = sns.distplot(p_anova_data[p_anova_data['Group']=='NY']['Funding']/(10**6),kde = True, rug = False)\n",
    "ax1.set(xlabel='NY - Funding for companies (in $M)')\n",
    "plt.subplot(1, 3, 2)\n",
    "ax2 = sns.distplot(p_anova_data[p_anova_data['Group']=='SF']['Funding']/(10**6),kde = True, rug = False)\n",
    "ax2.set(xlabel='SF - Funding for companies (in $M)')\n",
    "plt.subplot(1, 3, 3)\n",
    "ax2 = sns.distplot(p_anova_data[p_anova_data['Group']=='EU']['Funding']/(10**6),kde = True, rug = False)\n",
    "ax2.set(xlabel='EU - Funding for companies (in $M)')\n",
    "\n",
    "plt.tight_layout(h_pad=100)"
   ]
  },
  {
   "cell_type": "markdown",
   "metadata": {
    "application/vnd.databricks.v1+cell": {
     "cellMetadata": {},
     "inputWidgets": {},
     "nuid": "9c060c40-93c9-4e6c-88e2-3c7638886be9",
     "showTitle": false,
     "title": ""
    }
   },
   "source": [
    "#### Write your observations on improvements or suggestions on quality, quantity, variety, velocity, veracity etc. on the data points collected to perform a better data analysis"
   ]
  },
  {
   "cell_type": "markdown",
   "metadata": {
    "application/vnd.databricks.v1+cell": {
     "cellMetadata": {},
     "inputWidgets": {},
     "nuid": "22124338-2a5c-4974-bfcf-8313446ba440",
     "showTitle": false,
     "title": ""
    }
   },
   "source": [
    "<br>\n",
    "a. Missing values for 'Product', 'Funding' could be rectified and actual values added, if available. \n",
    "<br>\n",
    "b.'Event' column also had few '-'. These could be either filled with proper values or left blank, so we can identify null values easily while processing.\n",
    "<br>\n",
    "c. 'Funding' could be added as numeric value rather than a string. \n",
    "<br>\n",
    "d. \"Event name\" , \"Location\" and \"Year\" could be separate features in the data. It helps in processing.\n"
   ]
  },
  {
   "cell_type": "code",
   "execution_count": 0,
   "metadata": {
    "application/vnd.databricks.v1+cell": {
     "cellMetadata": {
      "byteLimit": 2048000,
      "rowLimit": 10000
     },
     "inputWidgets": {},
     "nuid": "54f16749-e6af-4ef1-b266-186ffc317f6e",
     "showTitle": false,
     "title": ""
    }
   },
   "outputs": [],
   "source": [
    "# just testing this"
   ]
  },
  {
   "cell_type": "code",
   "execution_count": 0,
   "metadata": {
    "application/vnd.databricks.v1+cell": {
     "cellMetadata": {},
     "inputWidgets": {},
     "nuid": "bf21f388-cf71-444d-92e5-88df2fc924cf",
     "showTitle": false,
     "title": ""
    }
   },
   "outputs": [],
   "source": [
    "# just testing this with a new branch"
   ]
  }
 ],
 "metadata": {
  "application/vnd.databricks.v1+notebook": {
   "dashboards": [],
   "language": "python",
   "notebookMetadata": {
    "pythonIndentUnit": 4
   },
   "notebookName": "Senthilnathan M_Project_Applied Statistics",
   "widgets": {}
  },
  "kernelspec": {
   "display_name": "Python 3",
   "language": "python",
   "name": "python3"
  },
  "language_info": {
   "codemirror_mode": {
    "name": "ipython",
    "version": 3
   },
   "file_extension": ".py",
   "mimetype": "text/x-python",
   "name": "python",
   "nbconvert_exporter": "python",
   "pygments_lexer": "ipython3",
   "version": "3.7.3"
  }
 },
 "nbformat": 4,
 "nbformat_minor": 0
}
